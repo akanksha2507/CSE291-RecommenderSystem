{
 "cells": [
  {
   "cell_type": "code",
   "execution_count": 1,
   "metadata": {},
   "outputs": [],
   "source": [
    "import sqlite3"
   ]
  },
  {
   "cell_type": "code",
   "execution_count": null,
   "metadata": {},
   "outputs": [],
   "source": []
  },
  {
   "cell_type": "code",
   "execution_count": 3,
   "metadata": {},
   "outputs": [
    {
     "name": "stdout",
     "output_type": "stream",
     "text": [
      "0\n"
     ]
    }
   ],
   "source": [
    "import os\n",
    "import json\n",
    "\n",
    "conn = sqlite3.connect('yelp_dataset.db')\n",
    "c = conn.cursor()\n",
    "count = 0\n",
    "with open(os.path.join(\"yelp_dataset\",\"review.json\"),encoding='utf-8', errors='ignore') as f:\n",
    "    for line in f:\n",
    "        try:\n",
    "            data = json.loads(line)\n",
    "#             print(data['date'],data[\"review_id\"],data[\"user_id\"],data[\"business_id\"],data[\"useful\"],data[\"stars\"])\n",
    "            c.execute('insert into Reviews Values (?,?,?,?,?,?,?);',(data['date'],data[\"review_id\"],data[\"user_id\"],data[\"business_id\"],data[\"text\"],data[\"useful\"],data[\"stars\"]))\n",
    "        except Exception as e:\n",
    "            print('error:',e)\n",
    "#                 print(data['text'])\n",
    "            count += 1\n",
    "conn.commit()\n",
    "conn.close()\n",
    "print(count)"
   ]
  },
  {
   "cell_type": "code",
   "execution_count": 6,
   "metadata": {},
   "outputs": [
    {
     "name": "stdout",
     "output_type": "stream",
     "text": [
      "0\n"
     ]
    }
   ],
   "source": [
    "import os\n",
    "import json\n",
    "\n",
    "conn = sqlite3.connect('yelp_dataset.db')\n",
    "c = conn.cursor()\n",
    "count = 0\n",
    "with open(os.path.join(\"yelp_dataset\",\"user.json\"),encoding='utf-8', errors='ignore') as f:\n",
    "    for line in f:\n",
    "        try:\n",
    "            data = json.loads(line)\n",
    "            c.execute('insert into User Values (?,?,?,?,?,?);',\\\n",
    "                      (data[\"user_id\"],data[\"name\"],data[\"review_count\"],\\\n",
    "                      data[\"yelping_since\"],data[\"average_stars\"],\\\n",
    "                      data[\"compliment_hot\"]+data[\"compliment_more\"]+data[\"compliment_profile\"]+data[\"compliment_cute\"]+data[\"compliment_plain\"]+data[\"compliment_cool\"]+data[\"compliment_funny\"]+data[\"compliment_writer\"]))\n",
    "        except Exception as e:\n",
    "            print('error:',e)\n",
    "#                 print(data['text'])\n",
    "            count += 1\n",
    "conn.commit()\n",
    "conn.close()\n",
    "print(count)"
   ]
  },
  {
   "cell_type": "code",
   "execution_count": 8,
   "metadata": {},
   "outputs": [
    {
     "name": "stdout",
     "output_type": "stream",
     "text": [
      "0\n"
     ]
    }
   ],
   "source": [
    "import os\n",
    "import json\n",
    "\n",
    "conn = sqlite3.connect('yelp_dataset.db')\n",
    "c = conn.cursor()\n",
    "count = 0\n",
    "with open(os.path.join(\"yelp_dataset\",\"business.json\"),encoding='utf-8', errors='ignore') as f:\n",
    "    for line in f:\n",
    "        try:\n",
    "            data = json.loads(line)\n",
    "            c.execute('insert into Business Values (?,?,?,?,?,?,?,?,?,?,?,?);',\\\n",
    "                      (data[\"business_id\"],data[\"name\"],data[\"neighborhood\"],data[\"city\"],\\\n",
    "                      data[\"state\"],data[\"postal_code\"],\\\n",
    "                      data[\"latitude\"],data[\"longitude\"],data[\"stars\"],data[\"review_count\"],data[\"is_open\"],len(data[\"categories\"])))\n",
    "        except Exception as e:\n",
    "            print('error:',e)\n",
    "#                 print(data['text'])\n",
    "            count += 1\n",
    "conn.commit()\n",
    "conn.close()\n",
    "print(count)"
   ]
  },
  {
   "cell_type": "code",
   "execution_count": null,
   "metadata": {},
   "outputs": [],
   "source": []
  }
 ],
 "metadata": {
  "kernelspec": {
   "display_name": "Python 3",
   "language": "python",
   "name": "python3"
  },
  "language_info": {
   "codemirror_mode": {
    "name": "ipython",
    "version": 3
   },
   "file_extension": ".py",
   "mimetype": "text/x-python",
   "name": "python",
   "nbconvert_exporter": "python",
   "pygments_lexer": "ipython3",
   "version": "3.5.2"
  }
 },
 "nbformat": 4,
 "nbformat_minor": 2
}
