{
 "cells": [
  {
   "cell_type": "code",
   "execution_count": 1,
   "metadata": {},
   "outputs": [],
   "source": [
    "import sqlite3\n",
    "\n",
    "conn = sqlite3.connect('yelp_dataset.db')\n",
    "c = conn.cursor()\n",
    "\n",
    "def Select(q):\n",
    "    return c.execute(q)\n",
    "\n",
    "def Update(q):\n",
    "    c.execute(q)\n",
    "    conn.commit()\n",
    "    "
   ]
  },
  {
   "cell_type": "code",
   "execution_count": 2,
   "metadata": {},
   "outputs": [],
   "source": [
    "# query1=Select(\"Select count(*) from Tips\")"
   ]
  },
  {
   "cell_type": "code",
   "execution_count": 3,
   "metadata": {},
   "outputs": [],
   "source": [
    "# query1.fetchone()"
   ]
  },
  {
   "cell_type": "code",
   "execution_count": 6,
   "metadata": {},
   "outputs": [],
   "source": [
    "query = Select(\"Select Reviews.user_id, Reviews.business_id, Reviews.starts, Reviews.review_id, Reviews.review_text,  \\\n",
    "Tips.tip from Reviews join Tips on \\\n",
    " Reviews.user_id=Tips.user_id and Reviews.business_id=Tips.business_id\")"
   ]
  },
  {
   "cell_type": "code",
   "execution_count": 7,
   "metadata": {},
   "outputs": [],
   "source": [
    "data=[]\n",
    "i = 0\n",
    "for d in query:\n",
    "    i += 1\n",
    "    data.append(d)\n",
    "    "
   ]
  },
  {
   "cell_type": "code",
   "execution_count": 8,
   "metadata": {},
   "outputs": [
    {
     "data": {
      "text/plain": [
       "1000"
      ]
     },
     "execution_count": 8,
     "metadata": {},
     "output_type": "execute_result"
    }
   ],
   "source": [
    "len(data)"
   ]
  },
  {
   "cell_type": "code",
   "execution_count": 10,
   "metadata": {},
   "outputs": [
    {
     "name": "stdout",
     "output_type": "stream",
     "text": [
      "('oU2SSOmsp_A8JYI7Z2JJ5w', 'uYHaNptLzDLoV_JZ_MuzUA', 4, 'llmdwOgDReucVoWEry61Lw', \"Location is everything and this hotel has it! The reception is inviting and open 24 hours. They are very helpful and have a lot of patience answering all my questions about where to go etc. there is also a lounge open 24 hours with snack-type food. Breakfast is continental-style so if you want heartier fare look elsewhere though you don't have to go far. The bus and train stations are right across the street so it's easy access to the airport or anywhere else you may want to go. Turn uphill to old town or cross the bridge to new town. The room with a view i got was spacious and comfortable though it's a bit of a maze to find it-just follow the signs. The windows are double paned so the room is quiet plus i was on the 5th floor which helps. It's a bit pricey but still one of the best values i found!\", 'Awesome location!!')\n"
     ]
    }
   ],
   "source": [
    "for d in data[:1]:\n",
    "    print (d)"
   ]
  },
  {
   "cell_type": "code",
   "execution_count": 11,
   "metadata": {},
   "outputs": [],
   "source": [
    "index1=int(len(data)*0.8)\n",
    "train_data=data[:index1]\n",
    "test_data=data[index1:]\n",
    "del data"
   ]
  },
  {
   "cell_type": "code",
   "execution_count": 12,
   "metadata": {},
   "outputs": [],
   "source": [
    "# print len(train_data)\n",
    "# print len(test_data)"
   ]
  },
  {
   "cell_type": "code",
   "execution_count": 13,
   "metadata": {},
   "outputs": [],
   "source": [
    "user_rating_dict={}\n",
    "item_rating_dict={}"
   ]
  },
  {
   "cell_type": "code",
   "execution_count": 14,
   "metadata": {},
   "outputs": [],
   "source": [
    "for d in train_data:\n",
    "    user,item,rating,review_id,text=d[0],d[1],d[2],d[3],d[4]\n",
    "    if user not in user_rating_dict:\n",
    "        user_rating_dict[user]=[[] for _ in range(5)]\n",
    "    if item not in item_rating_dict:\n",
    "        item_rating_dict[item]=[[] for _ in range(5)]\n",
    "        \n",
    "    user_rating_dict[user][int(rating)-1].append(text)\n",
    "    item_rating_dict[item][int(rating)-1].append(text)    "
   ]
  },
  {
   "cell_type": "code",
   "execution_count": null,
   "metadata": {},
   "outputs": [],
   "source": [
    "user_item_review={}"
   ]
  },
  {
   "cell_type": "code",
   "execution_count": 23,
   "metadata": {},
   "outputs": [],
   "source": [
    "from sumy.parsers.plaintext import PlaintextParser \n",
    "from sumy.nlp.tokenizers import Tokenizer \n",
    "from sumy.summarizers.lex_rank import LexRankSummarizer "
   ]
  },
  {
   "cell_type": "code",
   "execution_count": 33,
   "metadata": {},
   "outputs": [
    {
     "name": "stdout",
     "output_type": "stream",
     "text": [
      "r-zUIQPaHzvIyL93wQaoiQ QGRpyQOwtl1Dkja-_VM7PA 3\n",
      "qyeALt2bQl6lMjWLwjNpVw FLdfpoqGGgm_d_xHDe0_Lw 1\n",
      "U0WU9d6gpMNkO_tPXK58Sg FLdfpoqGGgm_d_xHDe0_Lw 5\n",
      "0uALWZDD4Hu3_8fykVbL7w FLdfpoqGGgm_d_xHDe0_Lw 1\n",
      "ejcOUtOlD0WFqPa65HE80Q IPg5ZmRfG6nibu7GQe3LYg 4\n",
      "6MM9Yqn7UBM8tmpSHQHAAg IPg5ZmRfG6nibu7GQe3LYg 3\n",
      "uZZRzA-Lem4edf_K34yB7g lfuXIpZ_WxIbxJxUjRTBgg 5\n",
      "RTElp42I8CzRWNhe5gp-iw lfuXIpZ_WxIbxJxUjRTBgg 5\n",
      "JcirZUQLHN7cvUcmUtUeCg lfuXIpZ_WxIbxJxUjRTBgg 4\n",
      "SPZ9OrRGk8dJ7ep8JmoS5g lfuXIpZ_WxIbxJxUjRTBgg 3\n",
      "FmNuihINhD2lNQLnfFhpnA QLQrOULdkOYB2rsFqgKz3Q 4\n",
      "XYZw8rWQ0wjMWQChRCU8Hg 86wtLylJ9fbVuXRy5WU3Zw 4\n",
      "YttDgOC9AlM4HcAlDsbB2A kQbo5EmBXphXfLFddMqsug 5\n",
      "rcj-kHO5vfiMgRKee7r_xA kQbo5EmBXphXfLFddMqsug 5\n",
      "C0aL4tgH7g8DpCJS4FmogQ kQbo5EmBXphXfLFddMqsug 5\n",
      "KdxrZutJCb9ToArv6jCE1A pGHyYl4GrwSg-BAu3laYsw 5\n",
      "BQwMbDiPiPSPMOru0E8nrQ pGHyYl4GrwSg-BAu3laYsw 2\n",
      "URYCEpS1oRwBopLX7EjD9A pGHyYl4GrwSg-BAu3laYsw 5\n",
      "URYCEpS1oRwBopLX7EjD9A pGHyYl4GrwSg-BAu3laYsw 5\n",
      "CDHORt_NH2R6ySLHZ4npmg jQsNFOzDpxPmOurSWCg1vQ 2\n"
     ]
    }
   ],
   "source": [
    "re = []\n",
    "#  i = 0\n",
    "i = 0\n",
    "tips = []\n",
    "for d in test_data:\n",
    "    user,item,rating,tip=d[0],d[1],d[2],d[5]\n",
    "#     print(user,item,rating)\n",
    "    user_reveiws=user_rating_dict.get(user,[[] for _ in range(5)])[int(rating)-1]\n",
    "    item_reviews=item_rating_dict.get(item,[[] for _ in range(5)])[int(rating)-1]\n",
    "    reviews=user_reveiws+item_reviews\n",
    "    if len(reviews) == 0:\n",
    "        continue\n",
    "    parser = PlaintextParser.from_string(reviews,Tokenizer(\"english\"))\n",
    "    summarizer = LexRankSummarizer()\n",
    "    summary = summarizer(parser.document, 1)\n",
    "    re += [summary]\n",
    "    tips += [tip]"
   ]
  },
  {
   "cell_type": "code",
   "execution_count": 36,
   "metadata": {},
   "outputs": [
    {
     "data": {
      "text/plain": [
       "([(<Sentence: I handed it back and said \"It\\'s dirty, I\\'ll take a different one.\">,)],\n",
       " '\\n',\n",
       " 'Fast, affordable, delicious with many options')"
      ]
     },
     "execution_count": 36,
     "metadata": {},
     "output_type": "execute_result"
    }
   ],
   "source": [
    "re,\"\\n\",tip"
   ]
  },
  {
   "cell_type": "code",
   "execution_count": null,
   "metadata": {
    "scrolled": false
   },
   "outputs": [],
   "source": [
    "# len(user_item_review.keys())"
   ]
  },
  {
   "cell_type": "code",
   "execution_count": null,
   "metadata": {},
   "outputs": [],
   "source": [
    "# user_item_tips={}"
   ]
  },
  {
   "cell_type": "code",
   "execution_count": null,
   "metadata": {},
   "outputs": [],
   "source": [
    "# k=0\n",
    "# for (u,i) in user_item_review:\n",
    "#     parser = PlaintextParser.from_string(user_item_review[(u,i)],Tokenizer(\"english\"))\n",
    "#     summarizer = LexRankSummarizer()\n",
    "#     summary = summarizer(parser.document, 1)\n",
    "#     user_item_tips[(u,i)]=summary"
   ]
  },
  {
   "cell_type": "code",
   "execution_count": null,
   "metadata": {},
   "outputs": [],
   "source": [
    "# len(user_item_tips.items())"
   ]
  },
  {
   "cell_type": "code",
   "execution_count": 37,
   "metadata": {},
   "outputs": [],
   "source": [
    "# item_rating_dict['QGRpyQOwtl1Dkja-_VM7PA'][2]"
   ]
  },
  {
   "cell_type": "code",
   "execution_count": null,
   "metadata": {},
   "outputs": [],
   "source": []
  }
 ],
 "metadata": {
  "kernelspec": {
   "display_name": "Python 3",
   "language": "python",
   "name": "python3"
  },
  "language_info": {
   "codemirror_mode": {
    "name": "ipython",
    "version": 3
   },
   "file_extension": ".py",
   "mimetype": "text/x-python",
   "name": "python",
   "nbconvert_exporter": "python",
   "pygments_lexer": "ipython3",
   "version": "3.5.2"
  }
 },
 "nbformat": 4,
 "nbformat_minor": 2
}
