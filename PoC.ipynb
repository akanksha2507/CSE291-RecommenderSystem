{
 "cells": [
  {
   "cell_type": "code",
   "execution_count": 1,
   "metadata": {},
   "outputs": [],
   "source": [
    "import pickle\n",
    "import os"
   ]
  },
  {
   "cell_type": "code",
   "execution_count": 2,
   "metadata": {},
   "outputs": [],
   "source": [
    "# with open(os.path.join(\"data\",\"yelp_2017\",\"dict.pkl\"),\"rb\") as f:\n",
    "#     word_to_ind = pickle.load(f,encoding=\"bytes\")\n",
    "# with open(os.path.join(\"data\",\"yelp_2017\",\"word_emb.pkl\"),\"rb\") as f:\n",
    "#     emb = pickle.load(f,encoding=\"bytes\")"
   ]
  },
  {
   "cell_type": "code",
   "execution_count": 3,
   "metadata": {},
   "outputs": [],
   "source": [
    "# max(word_to_ind.values()),emb.shape"
   ]
  },
  {
   "cell_type": "code",
   "execution_count": 4,
   "metadata": {},
   "outputs": [],
   "source": [
    "import sqlite3\n",
    "\n",
    "conn = sqlite3.connect('yelp_dataset.db')\n",
    "c = conn.cursor()\n",
    "\n",
    "def Select(q):\n",
    "    return c.execute(q)\n",
    "\n",
    "def Update(q):\n",
    "    c.execute(q)\n",
    "    conn.commit()\n",
    "    \n",
    "        \n",
    "# conn.close()"
   ]
  },
  {
   "cell_type": "code",
   "execution_count": 5,
   "metadata": {},
   "outputs": [],
   "source": [
    "# x=Update(\"create view RevAB_CA as select \\\n",
    "# User.id as user_id, User.review_count as user_review_count, User.average_rating as user_rating, \\\n",
    "# Business.city as city, Business.state as state, Business.ratings as item_rating, Business.id as item_id, \\\n",
    "# Reviews.id as review_id, Reviews.ts as ts, Reviews.rating as review_rating \\\n",
    "# from Reviews \\\n",
    "# Inner JOIN User on User.id = Reviews.user_id \\\n",
    "# INNER JOIN Business on Business.id = Reviews.business_id \\\n",
    "# where Business.city = \\\"Las Vegas\\\"\")"
   ]
  },
  {
   "cell_type": "code",
   "execution_count": 6,
   "metadata": {},
   "outputs": [],
   "source": [
    "data = Select(\"Select * from RevAB_CA where user_review_count > 15 LIMIT 10000\")\n",
    "#"
   ]
  },
  {
   "cell_type": "code",
   "execution_count": 7,
   "metadata": {},
   "outputs": [],
   "source": [
    "query = data\n",
    "data = []\n",
    "for row in query:\n",
    "    data += [row]"
   ]
  },
  {
   "cell_type": "code",
   "execution_count": 8,
   "metadata": {},
   "outputs": [],
   "source": [
    "items = list(set([x[6] for x in data]))\n",
    "users = list(set([x[0] for x in data]))\n",
    "# items_ind = {items[i]:i for i in range(len(items))}\n",
    "\n",
    "# users_ind = {users[i]:i for i in range(len(users))}"
   ]
  },
  {
   "cell_type": "code",
   "execution_count": 9,
   "metadata": {},
   "outputs": [
    {
     "data": {
      "text/plain": [
       "(1015, 5661, 11)"
      ]
     },
     "execution_count": 9,
     "metadata": {},
     "output_type": "execute_result"
    }
   ],
   "source": [
    "len(items),len(users),len(data[0])"
   ]
  },
  {
   "cell_type": "code",
   "execution_count": 10,
   "metadata": {},
   "outputs": [],
   "source": [
    "from collections import defaultdict \n",
    "rev_u = defaultdict(lambda: defaultdict(dict))\n",
    "rev_i = defaultdict(lambda: defaultdict(dict))\n",
    "for review in data:\n",
    "    user = review[0]\n",
    "    item = review[6]\n",
    "    text = review[10]#o\n",
    "    rev_u [user][item] = text\n",
    "    rev_i [item][user] = text\n",
    "rev_u = dict(rev_u)\n",
    "rev_i = dict(rev_i)"
   ]
  },
  {
   "cell_type": "code",
   "execution_count": 95,
   "metadata": {},
   "outputs": [],
   "source": [
    "# words = set(word_to_ind.keys())\n",
    "# wordList = list(words)"
   ]
  },
  {
   "cell_type": "code",
   "execution_count": 11,
   "metadata": {},
   "outputs": [
    {
     "name": "stdout",
     "output_type": "stream",
     "text": [
      "Loaded GloVe!\n"
     ]
    }
   ],
   "source": [
    "import difflib\n",
    "import numpy as np\n",
    "filename = 'glove.6B.50d.txt'\n",
    "def loadGloVe(filename):\n",
    "    vocab = set()\n",
    "    embd = {}\n",
    "    file = open(filename,'r')\n",
    "    word = None\n",
    "    with open(filename,encoding=\"utf-8\") as f:\n",
    "        try:\n",
    "            for line in f:\n",
    "                row = line.strip().split(' ')\n",
    "                word = row[0]\n",
    "                vocab.add(row[0])\n",
    "                embd[word] = np.array(row[1:])\n",
    "            \n",
    "        except Exception as e:\n",
    "            print(word)\n",
    "    print('Loaded GloVe!')\n",
    "    file.close()\n",
    "    return vocab,embd\n",
    "vocab_set,embd = loadGloVe(filename)\n",
    "# vocab_size = len(vocab)\n",
    "# vocab_set = set(vocab)\n",
    "# embedding_dim = len(embd[0])\n",
    "# embedding = np.asarray(embd)\n",
    "\n",
    "\n",
    "                    "
   ]
  },
  {
   "cell_type": "code",
   "execution_count": 22,
   "metadata": {},
   "outputs": [
    {
     "data": {
      "text/plain": [
       "(['the', ',', '.', 'of', 'to'], 400000)"
      ]
     },
     "execution_count": 22,
     "metadata": {},
     "output_type": "execute_result"
    }
   ],
   "source": [
    "vocab[:5],vocab_size"
   ]
  },
  {
   "cell_type": "code",
   "execution_count": 12,
   "metadata": {},
   "outputs": [
    {
     "name": "stderr",
     "output_type": "stream",
     "text": [
      "Using TensorFlow backend.\n"
     ]
    }
   ],
   "source": [
    "import keras\n",
    "from keras.models import Sequential\n",
    "from keras.layers import Activation\n",
    "from keras.optimizers import SGD, Adam, RMSprop\n",
    "from keras.layers import Dense,Dropout,BatchNormalization, SimpleRNN, GRU, LSTM,Bidirectional,Conv2D,Merge,Flatten,MaxPooling2D"
   ]
  },
  {
   "cell_type": "code",
   "execution_count": 13,
   "metadata": {},
   "outputs": [],
   "source": [
    "def deepCONN(user_shape,item_shape):\n",
    "    model1 = Sequential()\n",
    "    model1.add (Conv2D(32, (2,user_shape[1]), padding='same',\n",
    "                 input_shape=user_shape, activation=\"relu\"))\n",
    "    model1.add(MaxPooling2D(pool_size=(user_shape[0],1)))     \n",
    "    model1.add(Flatten())\n",
    "    model1.add(Dense(100,activation=\"relu\"))\n",
    "    model1.add(BatchNormalization())\n",
    "                     \n",
    "                     \n",
    "    model2 = Sequential()\n",
    "    model2.add (Conv2D(32, (2,item_shape[1]), padding='same',\n",
    "                 input_shape=item_shape, activation=\"relu\"))\n",
    "    model2.add(MaxPooling2D(pool_size=(item_shape[0],1)))\n",
    "    model2.add(Flatten())\n",
    "    model2.add(Dense(100,activation=\"relu\"))\n",
    "    model2.add(BatchNormalization())\n",
    "                     \n",
    "    model = Sequential()\n",
    "    model.add(Merge([model1,model2],mode='concat'))\n",
    "    model.add(Dense(32,activation=\"relu\"))\n",
    "    model.add(Dropout(0.5))\n",
    "    model.add(Dense(1))\n",
    "    return model\n",
    "    "
   ]
  },
  {
   "cell_type": "code",
   "execution_count": 14,
   "metadata": {},
   "outputs": [],
   "source": [
    "max_len = 40"
   ]
  },
  {
   "cell_type": "code",
   "execution_count": 15,
   "metadata": {},
   "outputs": [
    {
     "name": "stderr",
     "output_type": "stream",
     "text": [
      "c:\\python3\\lib\\site-packages\\ipykernel_launcher.py:20: UserWarning: The `Merge` layer is deprecated and will be removed after 08/2017. Use instead layers from `keras.layers.merge`, e.g. `add`, `concatenate`, etc.\n"
     ]
    }
   ],
   "source": [
    "model = deepCONN((max_len,50,1),(max_len,50,1))"
   ]
  },
  {
   "cell_type": "code",
   "execution_count": 49,
   "metadata": {},
   "outputs": [],
   "source": [
    "# import numpy \n",
    "# def embedding(words):\n",
    "#     embed = []\n",
    "#     for word in words:\n",
    "#         embed += [embd[word]]\n",
    "#     for _ in range(100-len(words)):\n",
    "#         embed += [[0]*50]\n",
    "#     return numpy.array(embed)"
   ]
  },
  {
   "cell_type": "code",
   "execution_count": 63,
   "metadata": {},
   "outputs": [],
   "source": [
    "import numpy\n",
    "def embedding(text,maxlen):\n",
    "    text = text.split()\n",
    "    count = 0\n",
    "    _w = []\n",
    "    for word in text:\n",
    "        word = word.lower()\n",
    "        if word in vocab_set:\n",
    "            _w += [embd[word]]\n",
    "        elif word[:-1] in vocab_set and word[-1] == \".\":\n",
    "            _w += [embd[word[:-1]]]\n",
    "            if len(_w) == max_len:\n",
    "                break\n",
    "            _w += [embd[word[-1]]]\n",
    "        else:\n",
    "            count += 1\n",
    "        if len(_w) == max_len:\n",
    "            break\n",
    "#     print(len(_w))\n",
    "    for _ in range(maxlen-len(_w)):\n",
    "        _w += [numpy.array([0]*50)]\n",
    "    ar= numpy.array(_w)\n",
    "    ar = numpy.reshape(ar,(maxlen,50,1))\n",
    "    return ar"
   ]
  },
  {
   "cell_type": "code",
   "execution_count": 64,
   "metadata": {},
   "outputs": [],
   "source": [
    "user_emb, item_emb = {},{}\n",
    "for user in rev_u:\n",
    "    user_emb[user] = embedding(\" \".join([rev_u[user][item] for item in rev_u[user] ]),max_len)\n",
    "for item in rev_i:\n",
    "    item_emb[item] = embedding(\" \".join([rev_i[item][user] for user in rev_i[item]]),max_len)"
   ]
  },
  {
   "cell_type": "code",
   "execution_count": 65,
   "metadata": {},
   "outputs": [],
   "source": [
    "# for user in rev_u:\n",
    "#     user_emb[user] = embedding(user_emb[user])\n",
    "# for item in rev_i:\n",
    "#     item_emb[item] = embedding(item_emb[item])"
   ]
  },
  {
   "cell_type": "code",
   "execution_count": 68,
   "metadata": {},
   "outputs": [
    {
     "data": {
      "text/plain": [
       "(5000, 40, 50, 1)"
      ]
     },
     "execution_count": 68,
     "metadata": {},
     "output_type": "execute_result"
    }
   ],
   "source": [
    "X_user = []\n",
    "X_item = []\n",
    "Y = []\n",
    "for i in range(5000):\n",
    "    user,item,rating = data[i][0],data[i][6],data[i][9]\n",
    "#     print(embedding(data[i][10],max_len).shape)\n",
    "    X_user += [user_emb[user]]\n",
    "    X_item += [item_emb[item]]\n",
    "#     print(user_emb[user].shape,item_emb[item].shape)\n",
    "    Y += [rating]\n",
    "X_user = numpy.array(X_user)\n",
    "X_item = numpy.array(X_item)\n",
    "Y = numpy.array(Y)\n",
    "# embd[\"and\"].shape\n",
    "X_user.shape\n",
    "X_item.shape"
   ]
  },
  {
   "cell_type": "code",
   "execution_count": 69,
   "metadata": {},
   "outputs": [
    {
     "name": "stdout",
     "output_type": "stream",
     "text": [
      "Epoch 1/10\n",
      "5000/5000 [==============================] - 18s - loss: 2.2789 - acc: 0.2250    \n",
      "Epoch 2/10\n",
      "5000/5000 [==============================] - 17s - loss: 1.8472 - acc: 0.2518    \n",
      "Epoch 3/10\n",
      "5000/5000 [==============================] - 17s - loss: 1.7025 - acc: 0.2672    \n",
      "Epoch 4/10\n",
      "5000/5000 [==============================] - 18s - loss: 1.5582 - acc: 0.2826    \n",
      "Epoch 5/10\n",
      "5000/5000 [==============================] - 17s - loss: 1.3990 - acc: 0.3004    \n",
      "Epoch 6/10\n",
      "5000/5000 [==============================] - 18s - loss: 1.3422 - acc: 0.3114    \n",
      "Epoch 7/10\n",
      "5000/5000 [==============================] - 18s - loss: 1.2290 - acc: 0.3362    \n",
      "Epoch 8/10\n",
      "5000/5000 [==============================] - 18s - loss: 1.1804 - acc: 0.3278    \n",
      "Epoch 9/10\n",
      "5000/5000 [==============================] - 18s - loss: 1.1026 - acc: 0.3430    \n",
      "Epoch 10/10\n",
      "5000/5000 [==============================] - 18s - loss: 1.0639 - acc: 0.3572    \n"
     ]
    },
    {
     "data": {
      "text/plain": [
       "<keras.callbacks.History at 0x16b0522d0b8>"
      ]
     },
     "execution_count": 69,
     "metadata": {},
     "output_type": "execute_result"
    }
   ],
   "source": [
    "model.compile(loss=\"mean_squared_error\",optimizer=Adam(lr=0.004),metrics=[\"accuracy\"])\n",
    "model.fit([X_user,X_item],Y)"
   ]
  },
  {
   "cell_type": "code",
   "execution_count": null,
   "metadata": {},
   "outputs": [],
   "source": []
  }
 ],
 "metadata": {
  "kernelspec": {
   "display_name": "Python 3",
   "language": "python",
   "name": "python3"
  },
  "language_info": {
   "codemirror_mode": {
    "name": "ipython",
    "version": 3
   },
   "file_extension": ".py",
   "mimetype": "text/x-python",
   "name": "python",
   "nbconvert_exporter": "python",
   "pygments_lexer": "ipython3",
   "version": "3.5.2"
  }
 },
 "nbformat": 4,
 "nbformat_minor": 2
}
