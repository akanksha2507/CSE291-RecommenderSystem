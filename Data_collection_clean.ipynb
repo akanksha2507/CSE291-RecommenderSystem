{
 "cells": [
  {
   "cell_type": "code",
   "execution_count": 1,
   "metadata": {
    "collapsed": true
   },
   "outputs": [],
   "source": [
    "import sqlite3\n",
    "import os\n",
    "import json"
   ]
  },
  {
   "cell_type": "code",
   "execution_count": 2,
   "metadata": {
    "collapsed": true
   },
   "outputs": [],
   "source": [
    "conn = sqlite3.connect('yelp_dataset.db')\n",
    "c = conn.cursor()"
   ]
  },
  {
   "cell_type": "code",
   "execution_count": 3,
   "metadata": {},
   "outputs": [
    {
     "data": {
      "text/plain": [
       "<sqlite3.Cursor at 0x23cd3fa91f0>"
      ]
     },
     "execution_count": 3,
     "metadata": {},
     "output_type": "execute_result"
    }
   ],
   "source": [
    "\n",
    "c.execute('create table Reviews( review_date Date,review_id Text,user_id Text,business_id Text,review_text Text\\\n",
    ",useful Integer, starts Integer)' )"
   ]
  },
  {
   "cell_type": "code",
   "execution_count": 4,
   "metadata": {},
   "outputs": [
    {
     "data": {
      "text/plain": [
       "<sqlite3.Cursor at 0x23cd3fa91f0>"
      ]
     },
     "execution_count": 4,
     "metadata": {},
     "output_type": "execute_result"
    }
   ],
   "source": [
    "\n",
    "c.execute('create table User( user_id Text,name Text,review_count Integer,yelping_since Date,average_stars Text,\\\n",
    "compliment_data Integer)' )"
   ]
  },
  {
   "cell_type": "code",
   "execution_count": 5,
   "metadata": {},
   "outputs": [
    {
     "data": {
      "text/plain": [
       "<sqlite3.Cursor at 0x23cd3fa91f0>"
      ]
     },
     "execution_count": 5,
     "metadata": {},
     "output_type": "execute_result"
    }
   ],
   "source": [
    "\n",
    "c.execute('create table Business( business_id Text,business_name Text,neighborhood Text,city Text,state Text,\\\n",
    "postal_code Text,lat Decimal,long Decimal,\\\n",
    "stars Decimal,review_count Decimal,is_open Boolean,categories Decimal)' )"
   ]
  },
  {
   "cell_type": "code",
   "execution_count": 3,
   "metadata": {},
   "outputs": [
    {
     "data": {
      "text/plain": [
       "<sqlite3.Cursor at 0x107096340>"
      ]
     },
     "execution_count": 3,
     "metadata": {},
     "output_type": "execute_result"
    }
   ],
   "source": [
    "c.execute('create table Tips( user_id Text,business_id Text,tip Text)' )"
   ]
  },
  {
   "cell_type": "code",
   "execution_count": 6,
   "metadata": {
    "collapsed": true
   },
   "outputs": [],
   "source": [
    "with open(\"yelp_dataset/review.json\",encoding='utf-8', errors='ignore') as f:\n",
    "    for line in f:\n",
    "        try:\n",
    "            data = json.loads(line)\n",
    "            c.execute('insert into Reviews Values (?,?,?,?,?,?,?);',(data['date'],data[\"review_id\"],data[\"user_id\"],data[\"business_id\"],data[\"text\"],data[\"useful\"],data[\"stars\"]))\n",
    "        except Exception as e:\n",
    "            print('error:',e)\n",
    "            \n",
    "conn.commit()"
   ]
  },
  {
   "cell_type": "code",
   "execution_count": 7,
   "metadata": {
    "collapsed": true
   },
   "outputs": [],
   "source": [
    "with open(\"yelp_dataset/user.json\",encoding='utf-8', errors='ignore') as f:\n",
    "    for line in f:\n",
    "        try:\n",
    "            data = json.loads(line)\n",
    "            c.execute('insert into User Values (?,?,?,?,?,?);',\\\n",
    "                      (data[\"user_id\"],data[\"name\"],data[\"review_count\"],\\\n",
    "                      data[\"yelping_since\"],data[\"average_stars\"],\\\n",
    "                      data[\"compliment_hot\"]+data[\"compliment_more\"]+data[\"compliment_profile\"]+data[\"compliment_cute\"]+data[\"compliment_plain\"]+data[\"compliment_cool\"]+data[\"compliment_funny\"]+data[\"compliment_writer\"]))\n",
    "        except Exception as e:\n",
    "            print('error:',e)\n",
    "\n",
    "conn.commit()"
   ]
  },
  {
   "cell_type": "code",
   "execution_count": 8,
   "metadata": {
    "collapsed": true
   },
   "outputs": [],
   "source": [
    "with open(\"yelp_dataset/business.json\",encoding='utf-8', errors='ignore') as f:\n",
    "    for line in f:\n",
    "        try:\n",
    "            data = json.loads(line)\n",
    "            c.execute('insert into Business Values (?,?,?,?,?,?,?,?,?,?,?,?);',\\\n",
    "                      (data[\"business_id\"],data[\"name\"],data[\"neighborhood\"],data[\"city\"],\\\n",
    "                      data[\"state\"],data[\"postal_code\"],\\\n",
    "                      data[\"latitude\"],data[\"longitude\"],data[\"stars\"],data[\"review_count\"],data[\"is_open\"],len(data[\"categories\"])))\n",
    "        except Exception as e:\n",
    "            print('error:',e)\n",
    "conn.commit()\n",
    "conn.close()\n"
   ]
  },
  {
   "cell_type": "code",
   "execution_count": 6,
   "metadata": {},
   "outputs": [],
   "source": [
    "with open(\"tip.json\") as f:\n",
    "    for line in f:\n",
    "        try:\n",
    "            data = json.loads(line)\n",
    "            c.execute('insert into Tips Values (?,?,?);',\\\n",
    "                      (data[\"user_id\"],data[\"business_id\"],data[\"text\"]))\n",
    "        except Exception as e:\n",
    "            print('error:',e)\n",
    "conn.commit()\n",
    "conn.close()\n"
   ]
  },
  {
   "cell_type": "code",
   "execution_count": null,
   "metadata": {
    "collapsed": true
   },
   "outputs": [],
   "source": []
  }
 ],
 "metadata": {
  "anaconda-cloud": {},
  "kernelspec": {
   "display_name": "Python [conda root]",
   "language": "python",
   "name": "conda-root-py"
  },
  "language_info": {
   "codemirror_mode": {
    "name": "ipython",
    "version": 2
   },
   "file_extension": ".py",
   "mimetype": "text/x-python",
   "name": "python",
   "nbconvert_exporter": "python",
   "pygments_lexer": "ipython2",
   "version": "2.7.13"
  }
 },
 "nbformat": 4,
 "nbformat_minor": 2
}
