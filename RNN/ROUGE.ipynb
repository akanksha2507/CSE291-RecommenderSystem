{
 "cells": [
  {
   "cell_type": "markdown",
   "metadata": {},
   "source": [
    "Before actually using Rougue, install it through this link:\n",
    "\n",
    "git clone https://github.com/tagucci/pythonrouge.git\n",
    "python setup.py install\n",
    "\n",
    "\n",
    "and for other references/examples check this repo out:\n",
    "https://github.com/tagucci/pythonrouge"
   ]
  },
  {
   "cell_type": "code",
   "execution_count": 14,
   "metadata": {
    "collapsed": true
   },
   "outputs": [],
   "source": [
    "import numpy as np"
   ]
  },
  {
   "cell_type": "code",
   "execution_count": 2,
   "metadata": {},
   "outputs": [],
   "source": [
    "from pythonrouge.pythonrouge import Pythonrouge"
   ]
  },
  {
   "cell_type": "code",
   "execution_count": 4,
   "metadata": {
    "collapsed": true
   },
   "outputs": [],
   "source": [
    "#tip = [[\"get enough enough here to dinner. to to early get to\"]]"
   ]
  },
  {
   "cell_type": "code",
   "execution_count": 5,
   "metadata": {
    "collapsed": true
   },
   "outputs": [],
   "source": [
    "#ground_truth = [[[\"Get here early enough to have dinner\"]]]"
   ]
  },
  {
   "cell_type": "code",
   "execution_count": 6,
   "metadata": {
    "collapsed": true
   },
   "outputs": [],
   "source": [
    "# summary_file_exist = False if we are using lists as above\n",
    "# recall_only = True if we want the recall scores\n",
    "# change number of n_gram to change n_grams"
   ]
  },
  {
   "cell_type": "markdown",
   "metadata": {},
   "source": [
    "### Basic Way"
   ]
  },
  {
   "cell_type": "code",
   "execution_count": 15,
   "metadata": {
    "collapsed": true
   },
   "outputs": [],
   "source": [
    "# Using default configuration\n",
    "rouge = Pythonrouge(summary_file_exist=False,\n",
    "                    summary= lex_summ, reference=tip,\n",
    "                    n_gram=2, ROUGE_SU4=True, ROUGE_L=False,\n",
    "                    recall_only=True, stemming=True, stopwords=True,\n",
    "                    word_level=True, length_limit=True, length=50,\n",
    "                    use_cf=False, cf=95, scoring_formula='average',\n",
    "                    resampling=True, samples=1000, favor=True, p=0.5)"
   ]
  },
  {
   "cell_type": "code",
   "execution_count": 7,
   "metadata": {
    "collapsed": true
   },
   "outputs": [],
   "source": [
    "file = open('tips_lexrank.txt','r') "
   ]
  },
  {
   "cell_type": "code",
   "execution_count": 9,
   "metadata": {
    "collapsed": true
   },
   "outputs": [],
   "source": [
    "real_tips=[]\n",
    "lex_summary=[]"
   ]
  },
  {
   "cell_type": "code",
   "execution_count": 10,
   "metadata": {
    "collapsed": true
   },
   "outputs": [],
   "source": [
    "for l in file:\n",
    "    l=l.split('\\t\\t')\n",
    "    tip=l[0].strip()\n",
    "    lex_summ=l[1].strip()\n",
    "    real_tips+=[tip]\n",
    "    lex_summary+=[lex_summ]"
   ]
  },
  {
   "cell_type": "code",
   "execution_count": 11,
   "metadata": {
    "collapsed": true
   },
   "outputs": [],
   "source": [
    "file.close()"
   ]
  },
  {
   "cell_type": "code",
   "execution_count": 14,
   "metadata": {
    "collapsed": true
   },
   "outputs": [],
   "source": [
    "score = rouge.calc_score()"
   ]
  },
  {
   "cell_type": "code",
   "execution_count": 12,
   "metadata": {},
   "outputs": [
    {
     "data": {
      "text/plain": [
       "(50168, 50168)"
      ]
     },
     "execution_count": 12,
     "metadata": {},
     "output_type": "execute_result"
    }
   ],
   "source": [
    "len(real_tips), len(lex_summary)"
   ]
  },
  {
   "cell_type": "code",
   "execution_count": 18,
   "metadata": {
    "collapsed": true
   },
   "outputs": [],
   "source": [
    "rouge_score=[]"
   ]
  },
  {
   "cell_type": "code",
   "execution_count": null,
   "metadata": {},
   "outputs": [],
   "source": [
    "for i in range(len(real_tips)):\n",
    "    lex_summ=lex_summary[i]\n",
    "    tip=real_tips[i]\n",
    "    score = rouge.calc_score()\n",
    "    rouge_score.append(score)\n",
    "    if i%1000==0:\n",
    "        print i,"
   ]
  },
  {
   "cell_type": "code",
   "execution_count": 15,
   "metadata": {},
   "outputs": [
    {
     "data": {
      "text/plain": [
       "{'ROUGE-1': 1.0, 'ROUGE-2': 0.0, 'ROUGE-SU4': 0.0}"
      ]
     },
     "execution_count": 15,
     "metadata": {},
     "output_type": "execute_result"
    }
   ],
   "source": [
    "rouge_score[:2]"
   ]
  },
  {
   "cell_type": "markdown",
   "metadata": {},
   "source": [
    "### If you want to save the tips and abstracts in terms of text files and then use it, follow next steps"
   ]
  },
  {
   "cell_type": "markdown",
   "metadata": {},
   "source": [
    "file directory should look like this:\n",
    "    \n",
    "    # Directory format sample\n",
    "1 system summary and 4 reference summaries.\n",
    "- system summary\n",
    "./summary_path/summaryA.txt\n",
    "\n",
    "- reference summary\n",
    "./reference_path/summaryA.1.txt\n",
    "./reference_path/summaryA.2.txt\n",
    "./reference_path/summaryA.3.txt\n",
    "./reference_path/summaryA.4.txt\n",
    "\n",
    "File name of reference summaries should be same as the system summary.\n",
    "In this case, system file is \"summaryA.txt\" and reference files should have \"summaryA\" in file names."
   ]
  },
  {
   "cell_type": "code",
   "execution_count": 26,
   "metadata": {
    "collapsed": true
   },
   "outputs": [],
   "source": [
    "# tip = './sample/tips/'"
   ]
  },
  {
   "cell_type": "code",
   "execution_count": 27,
   "metadata": {
    "collapsed": true
   },
   "outputs": [],
   "source": [
    "# ground_truths = './sample/ground_truths/'"
   ]
  },
  {
   "cell_type": "code",
   "execution_count": 28,
   "metadata": {
    "collapsed": true
   },
   "outputs": [],
   "source": [
    "# ROUGE_dir = './pythonrouge/RELEASE-1.5.5/ROUGE-1.5.5.pl' # Will be in the installed directory. change path to that\n",
    "# data_dir = './pythonrouge/RELEASE-1.5.5/data/' # Need to add this data too. So change this directory as well"
   ]
  },
  {
   "cell_type": "code",
   "execution_count": 32,
   "metadata": {
    "collapsed": true
   },
   "outputs": [],
   "source": [
    "# rouge_files = Pythonrouge(summary_file_exist=True,\n",
    "#                         peer_path=tip, model_path=ground_truths,\n",
    "#                         n_gram=2, ROUGE_SU4=True, ROUGE_L=False,\n",
    "#                         recall_only=True,\n",
    "#                         stemming=True, stopwords=True,\n",
    "#                         word_level=True, length_limit=True, length=50,\n",
    "#                         use_cf=False, cf=95, scoring_formula='average',\n",
    "#                         resampling=True, samples=1000, favor=True, p=0.5)"
   ]
  },
  {
   "cell_type": "code",
   "execution_count": 33,
   "metadata": {
    "collapsed": true
   },
   "outputs": [],
   "source": [
    "# score = rouge_files.calc_score()"
   ]
  },
  {
   "cell_type": "code",
   "execution_count": 34,
   "metadata": {},
   "outputs": [
    {
     "data": {
      "text/plain": [
       "{}"
      ]
     },
     "execution_count": 34,
     "metadata": {},
     "output_type": "execute_result"
    }
   ],
   "source": [
    "# score"
   ]
  }
 ],
 "metadata": {
  "anaconda-cloud": {},
  "kernelspec": {
   "display_name": "Python [conda root]",
   "language": "python",
   "name": "conda-root-py"
  },
  "language_info": {
   "codemirror_mode": {
    "name": "ipython",
    "version": 2
   },
   "file_extension": ".py",
   "mimetype": "text/x-python",
   "name": "python",
   "nbconvert_exporter": "python",
   "pygments_lexer": "ipython2",
   "version": "2.7.13"
  }
 },
 "nbformat": 4,
 "nbformat_minor": 1
}
