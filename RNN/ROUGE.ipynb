{
 "cells": [
  {
   "cell_type": "markdown",
   "metadata": {},
   "source": [
    "Before actually using Rougue, install it through this link:\n",
    "\n",
    "git clone https://github.com/tagucci/pythonrouge.git\n",
    "python setup.py install\n",
    "\n",
    "\n",
    "and for other references/examples check this repo out:\n",
    "https://github.com/tagucci/pythonrouge"
   ]
  },
  {
   "cell_type": "code",
   "execution_count": 1,
   "metadata": {
    "collapsed": false
   },
   "outputs": [],
   "source": [
    "from pythonrouge.pythonrouge import Pythonrouge"
   ]
  },
  {
   "cell_type": "code",
   "execution_count": 10,
   "metadata": {
    "collapsed": true
   },
   "outputs": [],
   "source": [
    "tip = [[\"get enough enough here to dinner. to to early get to\"]]"
   ]
  },
  {
   "cell_type": "code",
   "execution_count": 11,
   "metadata": {
    "collapsed": true
   },
   "outputs": [],
   "source": [
    "ground_truth = [[[\"Get here early enough to have dinner\"]]]"
   ]
  },
  {
   "cell_type": "code",
   "execution_count": 12,
   "metadata": {
    "collapsed": true
   },
   "outputs": [],
   "source": [
    "# summary_file_exist = False if we are using lists as above\n",
    "# recall_only = True if we want the recall scores\n",
    "# change number of n_gram to change n_grams"
   ]
  },
  {
   "cell_type": "markdown",
   "metadata": {},
   "source": [
    "### Basic Way"
   ]
  },
  {
   "cell_type": "code",
   "execution_count": 13,
   "metadata": {
    "collapsed": true
   },
   "outputs": [],
   "source": [
    "# Using default configuration\n",
    "rouge = Pythonrouge(summary_file_exist=False,\n",
    "                    summary= tip, reference=ground_truth,\n",
    "                    n_gram=2, ROUGE_SU4=True, ROUGE_L=False,\n",
    "                    recall_only=True, stemming=True, stopwords=True,\n",
    "                    word_level=True, length_limit=True, length=50,\n",
    "                    use_cf=False, cf=95, scoring_formula='average',\n",
    "                    resampling=True, samples=1000, favor=True, p=0.5)"
   ]
  },
  {
   "cell_type": "code",
   "execution_count": 14,
   "metadata": {
    "collapsed": true
   },
   "outputs": [],
   "source": [
    "score = rouge.calc_score()"
   ]
  },
  {
   "cell_type": "code",
   "execution_count": 15,
   "metadata": {
    "collapsed": false
   },
   "outputs": [
    {
     "data": {
      "text/plain": [
       "{'ROUGE-1': 1.0, 'ROUGE-2': 0.0, 'ROUGE-SU4': 0.0}"
      ]
     },
     "execution_count": 15,
     "metadata": {},
     "output_type": "execute_result"
    }
   ],
   "source": [
    "score"
   ]
  },
  {
   "cell_type": "code",
   "execution_count": 18,
   "metadata": {
    "collapsed": true
   },
   "outputs": [],
   "source": [
    "# default sentences\n",
    "\n",
    "tip_orig = [[\" Tokyo is the one of the biggest city in the world.\"]]\n",
    "ground_truth_orig = [[[\"The capital of Japan, Tokyo, is the center of Japanese economy.\"]]]"
   ]
  },
  {
   "cell_type": "code",
   "execution_count": 23,
   "metadata": {
    "collapsed": false
   },
   "outputs": [],
   "source": [
    "rougue_original = Pythonrouge(summary_file_exist=False,\n",
    "                    summary= tip_orig, reference=ground_truth_orig,\n",
    "                    n_gram=2, ROUGE_SU4=True, ROUGE_L=False,\n",
    "                    recall_only=True, stemming=True, stopwords=True,\n",
    "                    word_level=True, length_limit=True, length=50,\n",
    "                    use_cf=False, cf=95, scoring_formula='average',\n",
    "                    resampling=True, samples=1000, favor=True, p=0.5)"
   ]
  },
  {
   "cell_type": "code",
   "execution_count": 24,
   "metadata": {
    "collapsed": false
   },
   "outputs": [
    {
     "data": {
      "text/plain": [
       "{'ROUGE-1': 0.16667, 'ROUGE-2': 0.0, 'ROUGE-SU4': 0.05}"
      ]
     },
     "execution_count": 24,
     "metadata": {},
     "output_type": "execute_result"
    }
   ],
   "source": [
    "rougue_original.calc_score()"
   ]
  },
  {
   "cell_type": "markdown",
   "metadata": {},
   "source": [
    "### If you want to save the tips and abstracts in terms of text files and then use it, follow next steps"
   ]
  },
  {
   "cell_type": "markdown",
   "metadata": {},
   "source": [
    "file directory should look like this:\n",
    "    \n",
    "    # Directory format sample\n",
    "1 system summary and 4 reference summaries.\n",
    "- system summary\n",
    "./summary_path/summaryA.txt\n",
    "\n",
    "- reference summary\n",
    "./reference_path/summaryA.1.txt\n",
    "./reference_path/summaryA.2.txt\n",
    "./reference_path/summaryA.3.txt\n",
    "./reference_path/summaryA.4.txt\n",
    "\n",
    "File name of reference summaries should be same as the system summary.\n",
    "In this case, system file is \"summaryA.txt\" and reference files should have \"summaryA\" in file names."
   ]
  },
  {
   "cell_type": "code",
   "execution_count": 26,
   "metadata": {
    "collapsed": true
   },
   "outputs": [],
   "source": [
    "tip = './sample/tips/'"
   ]
  },
  {
   "cell_type": "code",
   "execution_count": 27,
   "metadata": {
    "collapsed": true
   },
   "outputs": [],
   "source": [
    "ground_truths = './sample/ground_truths/'"
   ]
  },
  {
   "cell_type": "code",
   "execution_count": 28,
   "metadata": {
    "collapsed": true
   },
   "outputs": [],
   "source": [
    "ROUGE_dir = './pythonrouge/RELEASE-1.5.5/ROUGE-1.5.5.pl' # Will be in the installed directory. change path to that\n",
    "data_dir = './pythonrouge/RELEASE-1.5.5/data/' # Need to add this data too. So change this directory as well"
   ]
  },
  {
   "cell_type": "code",
   "execution_count": 32,
   "metadata": {
    "collapsed": true
   },
   "outputs": [],
   "source": [
    "rouge_files = Pythonrouge(summary_file_exist=True,\n",
    "                        peer_path=tip, model_path=ground_truths,\n",
    "                        n_gram=2, ROUGE_SU4=True, ROUGE_L=False,\n",
    "                        recall_only=True,\n",
    "                        stemming=True, stopwords=True,\n",
    "                        word_level=True, length_limit=True, length=50,\n",
    "                        use_cf=False, cf=95, scoring_formula='average',\n",
    "                        resampling=True, samples=1000, favor=True, p=0.5)"
   ]
  },
  {
   "cell_type": "code",
   "execution_count": 33,
   "metadata": {
    "collapsed": true
   },
   "outputs": [],
   "source": [
    "score = rouge_files.calc_score()"
   ]
  },
  {
   "cell_type": "code",
   "execution_count": 34,
   "metadata": {
    "collapsed": false
   },
   "outputs": [
    {
     "data": {
      "text/plain": [
       "{}"
      ]
     },
     "execution_count": 34,
     "metadata": {},
     "output_type": "execute_result"
    }
   ],
   "source": [
    "score"
   ]
  }
 ],
 "metadata": {
  "anaconda-cloud": {},
  "kernelspec": {
   "display_name": "Python [conda root]",
   "language": "python",
   "name": "conda-root-py"
  },
  "language_info": {
   "codemirror_mode": {
    "name": "ipython",
    "version": 2
   },
   "file_extension": ".py",
   "mimetype": "text/x-python",
   "name": "python",
   "nbconvert_exporter": "python",
   "pygments_lexer": "ipython2",
   "version": "2.7.13"
  }
 },
 "nbformat": 4,
 "nbformat_minor": 1
}
