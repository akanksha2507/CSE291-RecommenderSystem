{
 "cells": [
  {
   "cell_type": "code",
   "execution_count": 1,
   "metadata": {},
   "outputs": [],
   "source": [
    "import pickle\n",
    "[user_rev_sample_dict,item_rev_sample_dict] = pickle.load(open(\"user_item_sample_review_dict.pkl\",\"rb\"))\n",
    "\n",
    "            "
   ]
  },
  {
   "cell_type": "code",
   "execution_count": null,
   "metadata": {},
   "outputs": [],
   "source": [
    "def create_epoch(inp_path,out_path):\n",
    "    fo = open(out_path,\"w\",encoding=\"utf-8\")\n",
    "    with open(inp_path,encoding=\"utf-8\") as f:\n",
    "        for line in f:\n",
    "            user_id,item_id,rating,review_id = line.strip().split(\"\\t\")\n",
    "            threshold = len(user_vec) -1\n",
    "            user_vec_t = user_rev_sample_dict[user_id]\n",
    "            item_vec_t = item_rev_sample_dict[item_id]\n",
    "            i=0\n",
    "            user_vec,item_vec = [],[]\n",
    "            for i in range(threshold+1):\n",
    "                if len(user_vec) < threshold and user_vec_t[i][0] != review_id:\n",
    "                    user_vec += [user_vec_t[i][0]]\n",
    "                if len(item_vec) < threshold and item_vec_t[i][0] != review_id:\n",
    "                    item_vec += [item_vec_t[i][0]]\n",
    "            fo.write(\"\\t\".join(user_id,item_id,rating,\" \".join(user_vec),\" \".join(item_vec))+\"\\n\")\n",
    "            \n",
    "            \n",
    "            \n",
    "                "
   ]
  }
 ],
 "metadata": {
  "kernelspec": {
   "display_name": "Python 3",
   "language": "python",
   "name": "python3"
  },
  "language_info": {
   "codemirror_mode": {
    "name": "ipython",
    "version": 3
   },
   "file_extension": ".py",
   "mimetype": "text/x-python",
   "name": "python",
   "nbconvert_exporter": "python",
   "pygments_lexer": "ipython3",
   "version": "3.5.2"
  }
 },
 "nbformat": 4,
 "nbformat_minor": 2
}
