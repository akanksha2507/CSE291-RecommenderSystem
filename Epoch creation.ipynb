{
 "cells": [
  {
   "cell_type": "code",
   "execution_count": 58,
   "metadata": {},
   "outputs": [
    {
     "name": "stdout",
     "output_type": "stream",
     "text": [
      "\n"
     ]
    }
   ],
   "source": [
    "import pickle\n",
    "import numpy"
   ]
  },
  {
   "cell_type": "code",
   "execution_count": 67,
   "metadata": {},
   "outputs": [],
   "source": [
    "[user_rev_sample_dict,item_rev_sample_dict] = pickle.load(open(\"user_item_rev_samples.pkl\",\"rb\"))"
   ]
  },
  {
   "cell_type": "code",
   "execution_count": 68,
   "metadata": {},
   "outputs": [],
   "source": [
    "def create_epoch(inp_path,out_path):\n",
    "    fo = open(out_path,\"w\")\n",
    "    k=0\n",
    "    with open(inp_path) as f:\n",
    "        try:\n",
    "            for line in f:\n",
    "                if k%10000==0:\n",
    "                    print k,\n",
    "                user_id,item_id,rating,review_id = line.strip().split(\"\\t\")\n",
    "                user_vec_t = user_rev_sample_dict[user_id]\n",
    "                item_vec_t = item_rev_sample_dict[item_id]\n",
    "                threshold = len(user_vec_t) -1\n",
    "                user_vec,item_vec = [],[]\n",
    "                for i in range(threshold+1):\n",
    "                    if len(user_vec) < threshold and user_vec_t[i][0] != review_id:\n",
    "                        user_vec.append(rp.get_emb(user_vec_t[i][0]))\n",
    "                    if len(item_vec) < threshold and item_vec_t[i][0] != review_id:\n",
    "                        item_vec.append(rp.get_emb(item_vec_t[i][0]))\n",
    "                user_vec =numpy.array(user_vec).flatten().tolist()\n",
    "                item_vec= numpy.array(item_vec).flatten().tolist()\n",
    "                fo.write(\"\\t\".join([user_id,item_id,rating,\" \".join([str(x) for x in user_vec]),\\\n",
    "                                    \" \".join([str(x) for x in item_vec])])+\"\\n\")\n",
    "                k+=1\n",
    "        except Exception:\n",
    "            print item_vec_t,item_id,len(item_vec_t)"
   ]
  },
  {
   "cell_type": "code",
   "execution_count": null,
   "metadata": {
    "scrolled": false
   },
   "outputs": [
    {
     "name": "stdout",
     "output_type": "stream",
     "text": [
      "0 10000 20000 30000 40000"
     ]
    }
   ],
   "source": [
    "create_epoch('train_review_data.txt','train_epoch_data.txt')"
   ]
  },
  {
   "cell_type": "code",
   "execution_count": 4,
   "metadata": {
    "collapsed": true
   },
   "outputs": [],
   "source": [
    "class ReviewProcessing:\n",
    "    def __init__(self):\n",
    "        self.review_dict = {}\n",
    "        \n",
    "    def load(self,review_delim_path,review_emb_path):\n",
    "        self.review_dict = pickle.load(open(review_delim_path,\"rb\"))\n",
    "        self.review_emb_path = review_emb_path\n",
    "    \n",
    "    def get_emb(self,review_id):\n",
    "        if not self.review_dict:\n",
    "            raise Exception(\"load the word index and emb files\")\n",
    "        if not review_id in self.review_dict:\n",
    "            return None\n",
    "        start,length = self.review_dict[review_id]\n",
    "        with open(self.review_emb_path,\"r\") as f:\n",
    "            f.seek(start)\n",
    "            line = f.read(length)\n",
    "            emb = line.split(\"\\t\")[4]\n",
    "            emb = numpy.array([float(x) for x in emb.split()])\n",
    "        return emb\n",
    "    "
   ]
  },
  {
   "cell_type": "code",
   "execution_count": 5,
   "metadata": {
    "collapsed": true
   },
   "outputs": [],
   "source": [
    "rp = ReviewProcessing()\n",
    "rp.load(\"review_delim.pkl\",\"review_emb.txt\")"
   ]
  },
  {
   "cell_type": "code",
   "execution_count": 51,
   "metadata": {},
   "outputs": [],
   "source": [
    "# f=open('train_epoch_data.txt','r')\n",
    "# for l in f:\n",
    "#     u,i,r,u_e,i_e=l.split(\"\\t\")\n",
    "#     print u,i\n",
    "#     u_e = numpy.array([float(x) for x in u_e.split(\" \")]).reshape(10,64)\n",
    "#     print u_e"
   ]
  },
  {
   "cell_type": "code",
   "execution_count": null,
   "metadata": {
    "collapsed": true
   },
   "outputs": [],
   "source": []
  }
 ],
 "metadata": {
  "kernelspec": {
   "display_name": "Python [conda root]",
   "language": "python",
   "name": "conda-root-py"
  },
  "language_info": {
   "codemirror_mode": {
    "name": "ipython",
    "version": 2
   },
   "file_extension": ".py",
   "mimetype": "text/x-python",
   "name": "python",
   "nbconvert_exporter": "python",
   "pygments_lexer": "ipython2",
   "version": "2.7.13"
  }
 },
 "nbformat": 4,
 "nbformat_minor": 2
}
