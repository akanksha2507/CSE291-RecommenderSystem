{
 "cells": [
  {
   "cell_type": "code",
   "execution_count": null,
   "metadata": {
    "collapsed": true
   },
   "outputs": [],
   "source": [
    "import pickle\n",
    "import os\n",
    "import random\n",
    "import sqlite3\n",
    "import string,numpy"
   ]
  },
  {
   "cell_type": "code",
   "execution_count": null,
   "metadata": {},
   "outputs": [],
   "source": [
    "class ReviewEmbedding:\n",
    "    def review_emb(self,text, word_emb,word_dict):\n",
    "        words = []\n",
    "        rev_w = text.lower().strip().split()\n",
    "        for w in rev_w:\n",
    "            prev = 0\n",
    "            for ch in range(len(w)):\n",
    "                if w[ch] in self.punc:\n",
    "                    if prev < ch:\n",
    "                        words += [w[prev:ch]]\n",
    "                    words += [w[ch]]\n",
    "                    prev = ch + 1\n",
    "            if prev < len(w):\n",
    "                words += [w[prev:]]\n",
    "        emb = numpy.array([0.0]*64)\n",
    "        for word in words:\n",
    "            if word in word_dict:\n",
    "                emb += word_emb[word_dict[word]]\n",
    "            else:\n",
    "                word = '<UNK>'\n",
    "                emb += word_emb[word_dict[word]]\n",
    "        return emb\n",
    "    \n",
    "    def Select(self,q):\n",
    "        return self.c.execute(q)\n",
    "\n",
    "    def Update(self,q):\n",
    "        self.c.execute(q)\n",
    "        self.conn.commit()\n",
    "    \n",
    "    def __init__(self):\n",
    "        self.review_dict = {}\n",
    "        self.c = None\n",
    "        self.conn = None\n",
    "        self.review_dict = None\n",
    "        self.punc = set(string.punctuation)\n",
    "    \n",
    "    def create(self,db_path,word_dict_path, word_emb_path,review_delim_path,review_emb_path):\n",
    "        \n",
    "        self.conn = sqlite3.connect(db_path)\n",
    "        self.c = self.conn.cursor()\n",
    "        q = self.Select(\"select user_id,business_id, starts, review_id, review_text from Reviews \")\n",
    "        word_dict = pickle.load(open(word_dict_path,\"rb\"))\n",
    "        word_emb = pickle.load(open(word_emb_path,\"rb\"))\n",
    "        review_dict = {}\n",
    "        i=0\n",
    "        review_dict = {}\n",
    "        prev = 0\n",
    "        with open(review_emb_path,\"w\") as f:\n",
    "            for row in q:\n",
    "                user_id=row[0]\n",
    "                business_id=row[1]\n",
    "                rating=row[2]\n",
    "                review_id = row[3]\n",
    "                emb = self.review_emb(row[4],word_emb,word_dict)\n",
    "                line = user_id+\"\\t\"+business_id+\"\\t\"+rating+\"\\t\"+review_id+\"\\t\"+ \" \".join([str(x) for x in emb])\n",
    "                f.write(line+\"\\n\")\n",
    "                \n",
    "                review_dict[review_id] = (prev,len(line)+1)\n",
    "                prev += len(line)+1\n",
    "                if i%100000==0:\n",
    "                    print i,\" \"\n",
    "                i+=1\n",
    "        pickle.dump(review_dict,open(review_delim_path,\"wb\"))\n",
    "        self.conn.close()\n",
    "    \n",
    "  "
   ]
  },
  {
   "cell_type": "code",
   "execution_count": 75,
   "metadata": {
    "collapsed": true
   },
   "outputs": [],
   "source": [
    "re = ReviewEmbedding()"
   ]
  },
  {
   "cell_type": "code",
   "execution_count": null,
   "metadata": {},
   "outputs": [],
   "source": [
    "re.create(\"yelp_dataset.db\",\"dict.pkl\",\"emb.pkl\",\"review_delim.pkl\",\"review_emb.txt\")"
   ]
  }
 ],
 "metadata": {
  "kernelspec": {
   "display_name": "Python [conda root]",
   "language": "python",
   "name": "conda-root-py"
  },
  "language_info": {
   "codemirror_mode": {
    "name": "ipython",
    "version": 2
   },
   "file_extension": ".py",
   "mimetype": "text/x-python",
   "name": "python",
   "nbconvert_exporter": "python",
   "pygments_lexer": "ipython2",
   "version": "2.7.13"
  }
 },
 "nbformat": 4,
 "nbformat_minor": 2
}
