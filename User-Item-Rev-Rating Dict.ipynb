{
 "cells": [
  {
   "cell_type": "code",
   "execution_count": 89,
   "metadata": {
    "collapsed": true
   },
   "outputs": [],
   "source": [
    "import pickle\n",
    "import os\n",
    "import random\n",
    "import sqlite3\n",
    "import random\n",
    "import numpy "
   ]
  },
  {
   "cell_type": "code",
   "execution_count": 144,
   "metadata": {
    "collapsed": true
   },
   "outputs": [],
   "source": [
    "conn = sqlite3.connect('yelp_dataset.db')\n",
    "c = conn.cursor()\n",
    "\n",
    "def Select(q):\n",
    "    return c.execute(q)\n",
    "\n",
    "def Update(q):\n",
    "    c.execute(q)\n",
    "    conn.commit()"
   ]
  },
  {
   "cell_type": "code",
   "execution_count": 148,
   "metadata": {},
   "outputs": [],
   "source": [
    "import gzip\n",
    "user_item = set()\n",
    "with gzip.open(\"train_data.txt.gz\",'rb') as f:\n",
    "    for line in f:\n",
    "        user_id,item_id,rating,text = line.split(\"\\t\")\n",
    "        user_item.add(user_id+\"-\"+item_id)\n",
    "    "
   ]
  },
  {
   "cell_type": "code",
   "execution_count": 149,
   "metadata": {},
   "outputs": [],
   "source": [
    "q=Select(\"select user_id, business_id, review_id,  starts from Reviews \")"
   ]
  },
  {
   "cell_type": "code",
   "execution_count": 150,
   "metadata": {
    "collapsed": true
   },
   "outputs": [],
   "source": [
    "user_review_dict = {}\n",
    "item_review_dict = {}"
   ]
  },
  {
   "cell_type": "code",
   "execution_count": 151,
   "metadata": {},
   "outputs": [
    {
     "name": "stdout",
     "output_type": "stream",
     "text": [
      "0\n",
      "100000\n",
      "200000\n",
      "300000\n",
      "400000\n",
      "500000\n",
      "600000\n",
      "700000\n",
      "800000\n",
      "900000\n",
      "1000000\n",
      "1100000\n",
      "1200000\n",
      "1300000\n",
      "1400000\n",
      "1500000\n",
      "1600000\n",
      "1700000\n",
      "1800000\n",
      "1900000\n",
      "2000000\n",
      "2100000\n",
      "2200000\n",
      "2300000\n",
      "2400000\n",
      "2500000\n",
      "2600000\n",
      "2700000\n",
      "2800000\n",
      "2900000\n",
      "3000000\n",
      "3100000\n",
      "3200000\n",
      "3300000\n",
      "3400000\n",
      "3500000\n",
      "3600000\n",
      "3700000\n",
      "3800000\n",
      "3900000\n",
      "4000000\n",
      "4100000\n",
      "4200000\n",
      "4300000\n",
      "4400000\n",
      "4500000\n",
      "4600000\n",
      "4700000\n"
     ]
    }
   ],
   "source": [
    "i=0\n",
    "review_rating_pairs=set()\n",
    "for row in q:\n",
    "    if i % 100000 == 0:\n",
    "        print i\n",
    "    user = row[0]\n",
    "    item = row[1]\n",
    "    review_id = row[2]\n",
    "    rating = row[3]\n",
    "    if user+\"-\"+item in user_item:\n",
    "        if user not in user_review_dict:\n",
    "            user_review_dict[user] = []\n",
    "        if item not in item_review_dict:\n",
    "            item_review_dict[item] = []\n",
    "        user_review_dict[user] += [(review_id,rating)]\n",
    "        item_review_dict[item] += [(review_id,rating)]\n",
    "        review_rating_pairs.add((review_id,rating))\n",
    "    i += 1"
   ]
  },
  {
   "cell_type": "code",
   "execution_count": 41,
   "metadata": {
    "collapsed": true
   },
   "outputs": [],
   "source": [
    "pickle.dump([user_review_dict,item_review_dict],open(\"user_item_rev_rating.pkl\",\"wb\"))"
   ]
  },
  {
   "cell_type": "code",
   "execution_count": 152,
   "metadata": {
    "collapsed": true
   },
   "outputs": [],
   "source": [
    "del user_item\n",
    "conn.close()"
   ]
  },
  {
   "cell_type": "code",
   "execution_count": 153,
   "metadata": {},
   "outputs": [
    {
     "data": {
      "text/plain": [
       "1050896"
      ]
     },
     "execution_count": 153,
     "metadata": {},
     "output_type": "execute_result"
    }
   ],
   "source": [
    "len(list(user_review_dict.keys()))"
   ]
  },
  {
   "cell_type": "code",
   "execution_count": 154,
   "metadata": {
    "collapsed": true
   },
   "outputs": [],
   "source": [
    "threshold=11"
   ]
  },
  {
   "cell_type": "code",
   "execution_count": 155,
   "metadata": {},
   "outputs": [
    {
     "data": {
      "text/plain": [
       "3789518"
      ]
     },
     "execution_count": 155,
     "metadata": {},
     "output_type": "execute_result"
    }
   ],
   "source": [
    "len(review_rating_pairs)"
   ]
  },
  {
   "cell_type": "code",
   "execution_count": 175,
   "metadata": {},
   "outputs": [
    {
     "name": "stdout",
     "output_type": "stream",
     "text": [
      "\n"
     ]
    }
   ],
   "source": [
    "user_review_sample={}\n",
    "item_review_sample={}"
   ]
  },
  {
   "cell_type": "code",
   "execution_count": null,
   "metadata": {},
   "outputs": [
    {
     "name": "stdout",
     "output_type": "stream",
     "text": [
      "0 1000 2000 3000 4000 5000 6000 7000 8000 9000 10000 11000 12000 13000 14000 15000 16000 17000 18000 19000 20000 21000 22000 23000 24000 25000 26000 27000 28000 29000 30000 31000 32000 33000 34000 35000 36000 37000 38000 39000 40000 41000 42000 43000 44000 45000 46000 47000 48000 49000 50000"
     ]
    }
   ],
   "source": [
    "j=0\n",
    "for u in user_review_dict:\n",
    "    if j % 1000==0:\n",
    "        print j,\n",
    "    reviews=user_review_dict[u]\n",
    "    if threshold-len(reviews)>0:\n",
    "        num=threshold-len(reviews)\n",
    "        sample=random.sample(review_rating_pairs,num) \n",
    "        reviews.extend(sample)\n",
    "    else:\n",
    "        reviews=random.sample(reviews,threshold) \n",
    "    reviews=sorted(reviews, key=lambda x: x[1])\n",
    "    user_review_sample[u]=[r[0] for r in reviews]  \n",
    "    j += 1"
   ]
  },
  {
   "cell_type": "code",
   "execution_count": 171,
   "metadata": {},
   "outputs": [
    {
     "data": {
      "text/plain": [
       "(u'CM4oH2tM7g34LKXY8y8bpw',\n",
       " [u'VX-A-dvKIBVXxW32RIOlwA',\n",
       "  u'ut-XZDDGNsHcL0SKz2zYCA',\n",
       "  u'9u1Z7PFiTmW4BvqLtnaVvg',\n",
       "  u'Ff3P6CMYH1VhsGtjU3sIRg',\n",
       "  u'z5CvTFrRXUWkvN09JgmHPQ',\n",
       "  u'ZrRt9i4pNlSZFtHQDBHjvw',\n",
       "  u'yJEc0P4p1ioc1nXP86tfrg',\n",
       "  u'ykGR4sTkZJrn2Ljk7gjaaA',\n",
       "  u'M3NPCPHY3KNrKsmAM8EnZQ',\n",
       "  u'ptVGvWrDrthDife7xlSPUw',\n",
       "  u'-vEvg0DPf-I9XRxaM1HJpA'])"
      ]
     },
     "execution_count": 171,
     "metadata": {},
     "output_type": "execute_result"
    }
   ],
   "source": [
    "user_review_sample.items()[:2]"
   ]
  },
  {
   "cell_type": "code",
   "execution_count": null,
   "metadata": {
    "collapsed": true
   },
   "outputs": [],
   "source": [
    "k=0\n",
    "for i in item_review_dict:\n",
    "    if k % 10000==0:\n",
    "        print k,\n",
    "    reviews=item_review_dict[i]\n",
    "    if threshold-len(reviews)>0:\n",
    "        num=threshold-len(reviews)\n",
    "        sample=random.sample(review_rating_pairs,num) \n",
    "        reviews.extend(sample)\n",
    "    else:\n",
    "        reviews=reviews[:threshold]\n",
    "    reviews=sorted(reviews, key=lambda x: x[1])\n",
    "    item_review_sample[i]=[r[0] for r in reviews]  \n",
    "    k+=1"
   ]
  },
  {
   "cell_type": "code",
   "execution_count": null,
   "metadata": {
    "collapsed": true
   },
   "outputs": [],
   "source": [
    "item_review_sample.items()[:2]"
   ]
  },
  {
   "cell_type": "code",
   "execution_count": null,
   "metadata": {
    "collapsed": true
   },
   "outputs": [],
   "source": [
    "pickle.dump([user_review_sample,item_review_sample],open(\"user_item_rev_samples.pkl\",\"wb\"))"
   ]
  },
  {
   "cell_type": "code",
   "execution_count": 85,
   "metadata": {},
   "outputs": [],
   "source": [
    "class ReviewProcessing:\n",
    "    def __init__(self):\n",
    "        self.review_dict = {}\n",
    "        \n",
    "    def load(self,review_delim_path,review_emb_path):\n",
    "        self.review_dict = pickle.load(open(review_delim_path,\"rb\"))\n",
    "        self.review_emb_path = review_emb_path\n",
    "    \n",
    "    def get_emb(self,review_id):\n",
    "        if not self.review_dict:\n",
    "            raise Exception(\"load the word index and emb files\")\n",
    "        if not review_id in self.review_dict:\n",
    "            return None\n",
    "        start,length = self.review_dict[review_id]\n",
    "        with open(self.review_emb_path,\"r\") as f:\n",
    "            f.seek(start)\n",
    "            line = f.read(length)\n",
    "            emb = line.split(\"\\t\")[4]\n",
    "            emb = numpy.array([float(x) for x in emb.split()])\n",
    "        return emb\n",
    "    "
   ]
  },
  {
   "cell_type": "code",
   "execution_count": 86,
   "metadata": {},
   "outputs": [],
   "source": [
    "rp = ReviewProcessing()\n",
    "rp.load(\"review_delim.pkl\",\"review_emb.txt\")"
   ]
  },
  {
   "cell_type": "code",
   "execution_count": null,
   "metadata": {
    "collapsed": true
   },
   "outputs": [],
   "source": []
  },
  {
   "cell_type": "code",
   "execution_count": null,
   "metadata": {
    "collapsed": true
   },
   "outputs": [],
   "source": []
  }
 ],
 "metadata": {
  "anaconda-cloud": {},
  "kernelspec": {
   "display_name": "Python [conda root]",
   "language": "python",
   "name": "conda-root-py"
  },
  "language_info": {
   "codemirror_mode": {
    "name": "ipython",
    "version": 2
   },
   "file_extension": ".py",
   "mimetype": "text/x-python",
   "name": "python",
   "nbconvert_exporter": "python",
   "pygments_lexer": "ipython2",
   "version": "2.7.13"
  }
 },
 "nbformat": 4,
 "nbformat_minor": 2
}
