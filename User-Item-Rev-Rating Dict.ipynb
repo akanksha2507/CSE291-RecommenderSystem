{
 "cells": [
  {
   "cell_type": "code",
   "execution_count": 4,
   "metadata": {
    "collapsed": true
   },
   "outputs": [],
   "source": [
    "import pickle\n",
    "import os\n",
    "import random\n",
    "import sqlite3\n",
    "import random\n",
    "import numpy "
   ]
  },
  {
   "cell_type": "code",
   "execution_count": 5,
   "metadata": {
    "collapsed": true
   },
   "outputs": [],
   "source": [
    "conn = sqlite3.connect('yelp_dataset.db')\n",
    "c = conn.cursor()\n",
    "\n",
    "def Select(q):\n",
    "    return c.execute(q)\n",
    "\n",
    "def Update(q):\n",
    "    c.execute(q)\n",
    "    conn.commit()"
   ]
  },
  {
   "cell_type": "code",
   "execution_count": 6,
   "metadata": {
    "collapsed": true
   },
   "outputs": [],
   "source": [
    "import gzip\n",
    "user_item = set()\n",
    "with gzip.open(\"train_data.txt.gz\",'rb') as f:\n",
    "    for line in f:\n",
    "        user_id,item_id,rating,text = line.split(\"\\t\")\n",
    "        user_item.add(user_id+\"-\"+item_id)\n",
    "    "
   ]
  },
  {
   "cell_type": "code",
   "execution_count": 7,
   "metadata": {
    "collapsed": true
   },
   "outputs": [],
   "source": [
    "q=Select(\"select user_id, business_id, review_id,  starts from Reviews \")"
   ]
  },
  {
   "cell_type": "code",
   "execution_count": 8,
   "metadata": {
    "collapsed": true
   },
   "outputs": [],
   "source": [
    "user_review_dict = {}\n",
    "item_review_dict = {}"
   ]
  },
  {
   "cell_type": "code",
   "execution_count": 9,
   "metadata": {},
   "outputs": [
    {
     "name": "stdout",
     "output_type": "stream",
     "text": [
      "0\n",
      "100000\n",
      "200000\n",
      "300000\n",
      "400000\n",
      "500000\n",
      "600000\n",
      "700000\n",
      "800000\n",
      "900000\n",
      "1000000\n",
      "1100000\n",
      "1200000\n",
      "1300000\n",
      "1400000\n",
      "1500000\n",
      "1600000\n",
      "1700000\n",
      "1800000\n",
      "1900000\n",
      "2000000\n",
      "2100000\n",
      "2200000\n",
      "2300000\n",
      "2400000\n",
      "2500000\n",
      "2600000\n",
      "2700000\n",
      "2800000\n",
      "2900000\n",
      "3000000\n",
      "3100000\n",
      "3200000\n",
      "3300000\n",
      "3400000\n",
      "3500000\n",
      "3600000\n",
      "3700000\n",
      "3800000\n",
      "3900000\n",
      "4000000\n",
      "4100000\n",
      "4200000\n",
      "4300000\n",
      "4400000\n",
      "4500000\n",
      "4600000\n",
      "4700000\n"
     ]
    }
   ],
   "source": [
    "i=0\n",
    "for row in q:\n",
    "    if i % 100000 == 0:\n",
    "        print i\n",
    "    user = row[0]\n",
    "    item = row[1]\n",
    "    review_id = row[2]\n",
    "    rating = row[3]\n",
    "    if user+\"-\"+item in user_item:\n",
    "        if user not in user_review_dict:\n",
    "            user_review_dict[user] = []\n",
    "        if item not in item_review_dict:\n",
    "            item_review_dict[item] = []\n",
    "        user_review_dict[user] += [(review_id,rating)]\n",
    "        item_review_dict[item] += [(review_id,rating)]\n",
    "    i += 1"
   ]
  },
  {
   "cell_type": "code",
   "execution_count": 10,
   "metadata": {
    "collapsed": true
   },
   "outputs": [],
   "source": [
    "pickle.dump([user_review_dict,item_review_dict],open(\"user_item_rev_rating.pkl\",\"wb\"))"
   ]
  },
  {
   "cell_type": "code",
   "execution_count": 11,
   "metadata": {
    "collapsed": true
   },
   "outputs": [],
   "source": [
    "del user_item\n",
    "conn.close()"
   ]
  },
  {
   "cell_type": "code",
   "execution_count": 12,
   "metadata": {},
   "outputs": [
    {
     "data": {
      "text/plain": [
       "1050896"
      ]
     },
     "execution_count": 12,
     "metadata": {},
     "output_type": "execute_result"
    }
   ],
   "source": [
    "len(list(user_review_dict.keys()))"
   ]
  },
  {
   "cell_type": "code",
   "execution_count": 41,
   "metadata": {},
   "outputs": [
    {
     "data": {
      "text/plain": [
       "156422"
      ]
     },
     "execution_count": 41,
     "metadata": {},
     "output_type": "execute_result"
    }
   ],
   "source": [
    "len(list(item_review_dict.keys()))"
   ]
  },
  {
   "cell_type": "code",
   "execution_count": 13,
   "metadata": {
    "collapsed": true
   },
   "outputs": [],
   "source": [
    "threshold=10"
   ]
  },
  {
   "cell_type": "code",
   "execution_count": 47,
   "metadata": {},
   "outputs": [],
   "source": [
    "user_review_sample={}\n",
    "item_review_sample={}"
   ]
  },
  {
   "cell_type": "code",
   "execution_count": 48,
   "metadata": {},
   "outputs": [],
   "source": [
    "review_rating_pairs=set()\n",
    "for u in user_review_dict:\n",
    "    for p in user_review_dict[u]:\n",
    "        review_rating_pairs.add(p)\n",
    "review_rating_pairs=list(review_rating_pairs)"
   ]
  },
  {
   "cell_type": "code",
   "execution_count": 49,
   "metadata": {},
   "outputs": [
    {
     "data": {
      "text/plain": [
       "3789518"
      ]
     },
     "execution_count": 49,
     "metadata": {},
     "output_type": "execute_result"
    }
   ],
   "source": [
    "len(user_review_rating_pairs)"
   ]
  },
  {
   "cell_type": "code",
   "execution_count": 50,
   "metadata": {},
   "outputs": [
    {
     "name": "stdout",
     "output_type": "stream",
     "text": [
      "0 10000 20000 30000 40000 50000 60000 70000 80000 90000 100000 110000 120000 130000 140000 150000 160000 170000 180000 190000 200000 210000 220000 230000 240000 250000 260000 270000 280000 290000 300000 310000 320000 330000 340000 350000 360000 370000 380000 390000 400000 410000 420000 430000 440000 450000 460000 470000 480000 490000 500000 510000 520000 530000 540000 550000 560000 570000 580000 590000 600000 610000 620000 630000 640000 650000 660000 670000 680000 690000 700000 710000 720000 730000 740000 750000 760000 770000 780000 790000 800000 810000 820000 830000 840000 850000 860000 870000 880000 890000 900000 910000 920000 930000 940000 950000 960000 970000 980000 990000 1000000 1010000 1020000 1030000 1040000 1050000\n"
     ]
    }
   ],
   "source": [
    "j=0\n",
    "for u in user_review_dict:\n",
    "    if j % 10000==0:\n",
    "        print j,\n",
    "    reviews=user_review_dict[u]\n",
    "    if len(reviews)<threshold+1:\n",
    "        reviews+=random.sample(user_review_rating_pairs,threshold+1-len(reviews)) \n",
    "    else:\n",
    "        reviews=random.sample(reviews,threshold+1) \n",
    "    reviews=sorted(reviews, key=lambda x: x[1])\n",
    "    user_review_sample[u]=reviews  \n",
    "    j += 1"
   ]
  },
  {
   "cell_type": "code",
   "execution_count": 51,
   "metadata": {},
   "outputs": [
    {
     "data": {
      "text/plain": [
       "[(u'kiQv0q-oOVGEOPa_S_at6w',\n",
       "  [(u'mJHLCMMyj8Ke-X711EM61Q', u'1'),\n",
       "   (u'VkMCwedtihadjqERM1Ya-A', u'2'),\n",
       "   (u'VWWrmiGEVpEICL3pYPaRug', u'4'),\n",
       "   (u'zZfLAZRZntt5DTJbzIVAuA', u'4'),\n",
       "   (u'zlDwnlqt54gY18gLNIiZMQ', u'4'),\n",
       "   (u'Kk_7EhWFbTVi-MmQk1P7lA', u'5'),\n",
       "   (u'flEXVkATYS2ApoqifUFh0A', u'5'),\n",
       "   (u'K9BAo2gC1IDXJVNYHMBA1g', u'5'),\n",
       "   (u'QD9d4-I47x3ci1EfLwEWwA', u'5'),\n",
       "   (u'NqCXpDaAsLJgcFghxhinkg', u'5'),\n",
       "   (u'_IWudMDujEtfKvFupehYAw', u'5')]),\n",
       " (u'an8MLCN3dYT8J6eSaszWlw',\n",
       "  [(u'sQ992SsdFL-r05DcENoziQ', u'1'),\n",
       "   (u'UYVA1Uz08I03gHacj6jPLQ', u'1'),\n",
       "   (u'voSAqd3GQTAQQjwdfrLNiw', u'4'),\n",
       "   (u'80FeNGPo-JWioFR2BYhXAQ', u'4'),\n",
       "   (u'CVrgcmNkbIha2uWmHbu1Sg', u'4'),\n",
       "   (u'w1tAMRysqBCNQrIeJjessQ', u'4'),\n",
       "   (u'v9x-0eniVQ9BEnrC8TTswQ', u'5'),\n",
       "   (u'puV1KWfmQF2yItxztANM-Q', u'5'),\n",
       "   (u'uvkXhwvXDx8iGvwFgholSw', u'5'),\n",
       "   (u'RNZDoNp0Dv-_nGXPUDbTcw', u'5'),\n",
       "   (u'7oCDoL8AUFY48a19bZ32Sw', u'5')])]"
      ]
     },
     "execution_count": 51,
     "metadata": {},
     "output_type": "execute_result"
    }
   ],
   "source": [
    "user_review_sample.items()[:2]"
   ]
  },
  {
   "cell_type": "code",
   "execution_count": 52,
   "metadata": {},
   "outputs": [
    {
     "name": "stdout",
     "output_type": "stream",
     "text": [
      "0 10000 20000 30000 40000 50000 60000 70000 80000 90000 100000 110000 120000 130000 140000 150000\n"
     ]
    }
   ],
   "source": [
    "j=0\n",
    "for i in item_review_dict:\n",
    "    if j % 10000==0:\n",
    "        print j,\n",
    "    reviews=item_review_dict[i]\n",
    "    if len(reviews)<threshold+1:\n",
    "        reviews+=random.sample(review_rating_pairs,threshold+1-len(reviews)) \n",
    "    else:\n",
    "        reviews=random.sample(reviews,threshold+1) \n",
    "    reviews=sorted(reviews, key=lambda x: x[1])\n",
    "    item_review_sample[i]=reviews  \n",
    "    j += 1"
   ]
  },
  {
   "cell_type": "code",
   "execution_count": 53,
   "metadata": {},
   "outputs": [
    {
     "data": {
      "text/plain": [
       "[(u'krBpN5vbCQrB54QvTXOzaA',\n",
       "  [(u'jbznKB-lcuHDu8DMTJPpyg', u'1'),\n",
       "   (u'cYf1t7QgU4XMNYe_GSTpPg', u'1'),\n",
       "   (u'XZzSjF8PGrSLyRIO4JRMtQ', u'3'),\n",
       "   (u'9Td3RZe43PpCCMSPPANb0A', u'4'),\n",
       "   (u'rtZI0DL4XyEAkPLXM2O_xQ', u'5'),\n",
       "   (u'FIeJHY_wF9cyd5ZcjG4D3g', u'5'),\n",
       "   (u'UdAeD4IW5HFtaWGUitRCTg', u'5'),\n",
       "   (u'5Xnt_JjEfomPdx7hWEfeVg', u'5'),\n",
       "   (u'sB-ebaPWm_roDg8JVUTYEA', u'5'),\n",
       "   (u'zHtaxUioRhSTIaCnBo2gdA', u'5'),\n",
       "   (u'GNUWasKIPmjDttvjtEg7Gg', u'5')]),\n",
       " (u'MH0oOCJ7DKnIJWwUQcohJw',\n",
       "  [(u'6h98txbP06dK2ZkfGzC-Ww', u'1'),\n",
       "   (u'n72h494tzdrSV5gfWwgWyA', u'3'),\n",
       "   (u'qazvNaJ3l0nnyzeXCLWtaA', u'3'),\n",
       "   (u'J36igC8W0DRoEh2Ns9UAog', u'4'),\n",
       "   (u'Dqxm8NnAcPPPTmveXfeDeQ', u'4'),\n",
       "   (u'oUtsX2nwUCzXKsDlxpILUg', u'4'),\n",
       "   (u'0ISvXKOuV4gOmQ5wPA3oAQ', u'4'),\n",
       "   (u'JBz8-snIzRsNlOh7Owpbjg', u'5'),\n",
       "   (u'OFer6j0KAgez2OznyWPHXg', u'5'),\n",
       "   (u'xJc2jIZ--5HrbB461RrgqA', u'5'),\n",
       "   (u'3bZnIXYQHvbG57pmphjBdA', u'5')])]"
      ]
     },
     "execution_count": 53,
     "metadata": {},
     "output_type": "execute_result"
    }
   ],
   "source": [
    "item_review_sample.items()[:2]"
   ]
  },
  {
   "cell_type": "code",
   "execution_count": 54,
   "metadata": {
    "collapsed": true
   },
   "outputs": [],
   "source": [
    "pickle.dump([user_review_sample,item_review_sample],open(\"user_item_rev_samples.pkl\",\"wb\"))"
   ]
  },
  {
   "cell_type": "code",
   "execution_count": null,
   "metadata": {
    "collapsed": true
   },
   "outputs": [],
   "source": []
  }
 ],
 "metadata": {
  "anaconda-cloud": {},
  "kernelspec": {
   "display_name": "Python [conda root]",
   "language": "python",
   "name": "conda-root-py"
  },
  "language_info": {
   "codemirror_mode": {
    "name": "ipython",
    "version": 2
   },
   "file_extension": ".py",
   "mimetype": "text/x-python",
   "name": "python",
   "nbconvert_exporter": "python",
   "pygments_lexer": "ipython2",
   "version": "2.7.13"
  }
 },
 "nbformat": 4,
 "nbformat_minor": 2
}
