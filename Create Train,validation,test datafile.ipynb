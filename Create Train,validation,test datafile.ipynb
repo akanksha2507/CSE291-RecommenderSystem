{
 "cells": [
  {
   "cell_type": "code",
   "execution_count": 1,
   "metadata": {},
   "outputs": [],
   "source": [
    "import pickle\n",
    "import os\n",
    "import random"
   ]
  },
  {
   "cell_type": "code",
   "execution_count": 2,
   "metadata": {},
   "outputs": [],
   "source": [
    "import sqlite3\n",
    "\n",
    "conn = sqlite3.connect('yelp_dataset.db')\n",
    "c = conn.cursor()\n",
    "\n",
    "def Select(q):\n",
    "    return c.execute(q)\n",
    "\n",
    "def Update(q):\n",
    "    c.execute(q)\n",
    "    conn.commit()"
   ]
  },
  {
   "cell_type": "code",
   "execution_count": 7,
   "metadata": {},
   "outputs": [],
   "source": [
    "q=Select(\"select user_id, business_id, starts, review_text from Reviews ORDER BY review_date\")"
   ]
  },
  {
   "cell_type": "code",
   "execution_count": 8,
   "metadata": {},
   "outputs": [],
   "source": [
    "l = 4736897"
   ]
  },
  {
   "cell_type": "code",
   "execution_count": 9,
   "metadata": {},
   "outputs": [],
   "source": [
    "train_data = []\n",
    "test_data = []\n",
    "valid_data = []"
   ]
  },
  {
   "cell_type": "code",
   "execution_count": 10,
   "metadata": {},
   "outputs": [
    {
     "name": "stdout",
     "output_type": "stream",
     "text": [
      "write to file at i=10000\t--> <-- --> <-- write to file at i=20000\t--> <-- --> <-- write to file at i=30000\t--> <-- --> <-- write to file at i=40000\t--> <-- --> <-- write to file at i=50000\t--> <-- --> <-- write to file at i=60000\t--> <-- --> <-- write to file at i=70000\t--> <-- --> <-- write to file at i=80000\t--> <-- --> <-- write to file at i=90000\t--> <-- --> <-- write to file at i=100000\t--> <-- --> <-- write to file at i=110000\t--> <-- --> <-- write to file at i=120000\t--> <-- --> <-- write to file at i=130000\t--> <-- --> <-- write to file at i=140000\t--> <-- --> <-- write to file at i=150000\t--> <-- --> <-- write to file at i=160000\t--> <-- --> <-- write to file at i=170000\t--> <-- --> <-- write to file at i=180000\t--> <-- --> <-- write to file at i=190000\t--> <-- --> <-- write to file at i=200000\t--> <-- --> <-- write to file at i=210000\t--> <-- --> <-- write to file at i=220000\t--> <-- --> <-- write to file at i=230000\t--> <-- --> <-- write to file at i=240000\t--> <-- --> <-- write to file at i=250000\t--> <-- --> <-- write to file at i=260000\t--> <-- --> <-- write to file at i=270000\t--> <-- --> <-- write to file at i=280000\t--> <-- --> <-- write to file at i=290000\t--> <-- --> <-- write to file at i=300000\t--> <-- --> <-- write to file at i=310000\t--> <-- --> <-- write to file at i=320000\t--> <-- --> <-- write to file at i=330000\t--> <-- --> <-- write to file at i=340000\t--> <-- --> <-- write to file at i=350000\t--> <-- --> <-- write to file at i=360000\t--> <-- --> <-- write to file at i=370000\t--> <-- --> <-- write to file at i=380000\t--> <-- --> <-- write to file at i=390000\t--> <-- --> <-- write to file at i=400000\t--> <-- --> <-- write to file at i=410000\t--> <-- --> <-- write to file at i=420000\t--> <-- --> <-- write to file at i=430000\t--> <-- --> <-- write to file at i=440000\t--> <-- --> <-- write to file at i=450000\t--> <-- --> <-- write to file at i=460000\t--> <-- --> <-- write to file at i=470000\t--> <-- --> <-- write to file at i=480000\t--> <-- --> <-- write to file at i=490000\t--> <-- --> <-- write to file at i=500000\t--> <-- --> <-- write to file at i=510000\t--> <-- --> <-- write to file at i=520000\t--> <-- --> <-- write to file at i=530000\t--> <-- --> <-- write to file at i=540000\t--> <-- --> <-- write to file at i=550000\t--> <-- --> <-- write to file at i=560000\t--> <-- --> <-- write to file at i=570000\t--> <-- --> <-- write to file at i=580000\t--> <-- --> <-- write to file at i=590000\t--> <-- --> <-- write to file at i=600000\t--> <-- --> <-- write to file at i=610000\t--> <-- --> <-- write to file at i=620000\t--> <-- --> <-- write to file at i=630000\t--> <-- --> <-- write to file at i=640000\t--> <-- --> <-- write to file at i=650000\t--> <-- --> <-- write to file at i=660000\t--> <-- --> <-- write to file at i=670000\t--> <-- --> <-- write to file at i=680000\t--> <-- --> <-- write to file at i=690000\t--> <-- --> <-- write to file at i=700000\t--> <-- --> <-- write to file at i=710000\t--> <-- --> <-- write to file at i=720000\t--> <-- --> <-- write to file at i=730000\t--> <-- --> <-- write to file at i=740000\t--> <-- --> <-- write to file at i=750000\t--> <-- --> <-- write to file at i=760000\t--> <-- --> <-- write to file at i=770000\t--> <-- --> <-- write to file at i=780000\t--> <-- --> <-- write to file at i=790000\t--> <-- --> <-- write to file at i=800000\t--> <-- --> <-- write to file at i=810000\t--> <-- --> <-- write to file at i=820000\t--> <-- --> <-- write to file at i=830000\t--> <-- --> <-- write to file at i=840000\t--> <-- --> <-- write to file at i=850000\t--> <-- --> <-- write to file at i=860000\t--> <-- --> <-- write to file at i=870000\t--> <-- --> <-- write to file at i=880000\t--> <-- --> <-- write to file at i=890000\t--> <-- --> <-- write to file at i=900000\t--> <-- --> <-- write to file at i=910000\t--> <-- --> <-- write to file at i=920000\t--> <-- --> <-- write to file at i=930000\t--> <-- --> <-- write to file at i=940000\t--> <-- --> <-- write to file at i=950000\t--> <-- --> <-- write to file at i=960000\t--> <-- --> <-- write to file at i=970000\t--> <-- --> <-- write to file at i=980000\t--> <-- --> <-- write to file at i=990000\t--> <-- --> <-- write to file at i=1000000\t--> <-- --> <-- write to file at i=1010000\t--> <-- --> <-- write to file at i=1020000\t--> <-- --> <-- write to file at i=1030000\t--> <-- --> <-- write to file at i=1040000\t--> <-- --> <-- write to file at i=1050000\t--> <-- --> <-- write to file at i=1060000\t--> <-- --> <-- write to file at i=1070000\t--> <-- --> <-- write to file at i=1080000\t--> <-- --> <-- write to file at i=1090000\t--> <-- --> <-- write to file at i=1100000\t--> <-- --> <-- write to file at i=1110000\t--> <-- --> <-- write to file at i=1120000\t--> <-- --> <-- write to file at i=1130000\t--> <-- --> <-- write to file at i=1140000\t--> <-- --> <-- write to file at i=1150000\t--> <-- --> <-- write to file at i=1160000\t--> <-- --> <-- write to file at i=1170000\t--> <-- --> <-- write to file at i=1180000\t--> <-- --> <-- write to file at i=1190000\t--> <-- --> <-- write to file at i=1200000\t--> <-- --> <-- write to file at i=1210000\t--> <-- --> <-- write to file at i=1220000\t--> <-- --> <-- write to file at i=1230000\t--> <-- --> <-- write to file at i=1240000\t--> <-- --> <-- write to file at i=1250000\t--> <-- --> <-- write to file at i=1260000\t--> <-- --> <-- write to file at i=1270000\t--> <-- --> <-- write to file at i=1280000\t--> <-- --> <-- write to file at i=1290000\t--> <-- --> <-- write to file at i=1300000\t--> <-- --> <-- write to file at i=1310000\t--> <-- --> <-- write to file at i=1320000\t--> <-- --> <-- write to file at i=1330000\t--> <-- --> <-- write to file at i=1340000\t--> <-- --> <-- write to file at i=1350000\t--> <-- --> <-- write to file at i=1360000\t--> <-- --> <-- write to file at i=1370000\t--> <-- --> <-- write to file at i=1380000\t--> <-- --> <-- write to file at i=1390000\t--> <-- --> <-- write to file at i=1400000\t--> <-- --> <-- write to file at i=1410000\t--> <-- --> <-- write to file at i=1420000\t--> <-- --> <-- write to file at i=1430000\t--> <-- --> <-- write to file at i=1440000\t--> <-- --> <-- write to file at i=1450000\t--> <-- --> <-- write to file at i=1460000\t--> <-- --> <-- write to file at i=1470000\t--> <-- --> <-- write to file at i=1480000\t--> <-- --> <-- write to file at i=1490000\t--> <-- --> <-- write to file at i=1500000\t--> <-- --> <-- write to file at i=1510000\t--> <-- --> <-- write to file at i=1520000\t--> <-- --> <-- write to file at i=1530000\t--> <-- --> <-- write to file at i=1540000\t--> <-- --> <-- write to file at i=1550000\t--> <-- --> <-- write to file at i=1560000\t--> <-- --> <-- write to file at i=1570000\t--> <-- --> <-- write to file at i=1580000\t--> <-- --> <-- write to file at i=1590000\t--> <-- --> <-- write to file at i=1600000\t--> <-- --> <-- write to file at i=1610000\t--> <-- --> <-- write to file at i=1620000\t--> <-- --> <-- write to file at i=1630000\t--> <-- --> <-- write to file at i=1640000\t--> <-- --> <-- write to file at i=1650000\t--> <-- --> <-- write to file at i=1660000\t--> <-- --> <-- write to file at i=1670000\t--> <-- --> <-- write to file at i=1680000\t--> <-- --> <-- write to file at i=1690000\t--> <-- --> <-- write to file at i=1700000\t--> <-- --> <-- write to file at i=1710000\t--> <-- --> <-- write to file at i=1720000\t--> <-- --> <-- write to file at i=1730000\t--> <-- --> <-- write to file at i=1740000\t--> <-- --> <-- write to file at i=1750000\t--> <-- --> <-- write to file at i=1760000\t--> <-- --> <-- write to file at i=1770000\t--> <-- --> <-- write to file at i=1780000\t--> <-- --> <-- write to file at i=1790000\t--> <-- --> <-- write to file at i=1800000\t--> <-- --> <-- write to file at i=1810000\t--> <-- --> <-- write to file at i=1820000\t--> <-- --> <-- write to file at i=1830000\t--> <-- --> <-- write to file at i=1840000\t--> <-- --> <-- write to file at i=1850000\t--> <-- --> <-- write to file at i=1860000\t--> <-- --> <-- write to file at i=1870000\t--> <-- --> <-- write to file at i=1880000\t--> <-- --> <-- write to file at i=1890000\t--> <-- --> <-- write to file at i=1900000\t--> <-- --> <-- write to file at i=1910000\t--> <-- --> <-- write to file at i=1920000\t--> <-- --> <-- write to file at i=1930000\t--> <-- --> <-- write to file at i=1940000\t--> "
     ]
    },
    {
     "name": "stdout",
     "output_type": "stream",
     "text": [
      "<-- --> <-- write to file at i=1950000\t--> <-- --> <-- write to file at i=1960000\t--> <-- --> <-- write to file at i=1970000\t--> <-- --> <-- write to file at i=1980000\t--> <-- --> <-- write to file at i=1990000\t--> <-- --> <-- write to file at i=2000000\t--> <-- --> <-- write to file at i=2010000\t--> <-- --> <-- write to file at i=2020000\t--> <-- --> <-- write to file at i=2030000\t--> <-- --> <-- write to file at i=2040000\t--> <-- --> <-- write to file at i=2050000\t--> <-- --> <-- write to file at i=2060000\t--> <-- --> <-- write to file at i=2070000\t--> <-- --> <-- write to file at i=2080000\t--> <-- --> <-- write to file at i=2090000\t--> <-- --> <-- write to file at i=2100000\t--> <-- --> <-- write to file at i=2110000\t--> <-- --> <-- write to file at i=2120000\t--> <-- --> <-- write to file at i=2130000\t--> <-- --> <-- write to file at i=2140000\t--> <-- --> <-- write to file at i=2150000\t--> <-- --> <-- write to file at i=2160000\t--> <-- --> <-- write to file at i=2170000\t--> <-- --> <-- write to file at i=2180000\t--> <-- --> <-- write to file at i=2190000\t--> <-- --> <-- write to file at i=2200000\t--> <-- --> <-- write to file at i=2210000\t--> <-- --> <-- write to file at i=2220000\t--> <-- --> <-- write to file at i=2230000\t--> <-- --> <-- write to file at i=2240000\t--> <-- --> <-- write to file at i=2250000\t--> <-- --> <-- write to file at i=2260000\t--> <-- --> <-- write to file at i=2270000\t--> <-- --> <-- write to file at i=2280000\t--> <-- --> <-- write to file at i=2290000\t--> <-- --> <-- write to file at i=2300000\t--> <-- --> <-- write to file at i=2310000\t--> <-- --> <-- write to file at i=2320000\t--> <-- --> <-- write to file at i=2330000\t--> <-- --> <-- write to file at i=2340000\t--> <-- --> <-- write to file at i=2350000\t--> <-- --> <-- write to file at i=2360000\t--> <-- --> <-- write to file at i=2370000\t--> <-- --> <-- write to file at i=2380000\t--> <-- --> <-- write to file at i=2390000\t--> <-- --> <-- write to file at i=2400000\t--> <-- --> <-- write to file at i=2410000\t--> <-- --> <-- write to file at i=2420000\t--> <-- --> <-- write to file at i=2430000\t--> <-- --> <-- write to file at i=2440000\t--> <-- --> <-- write to file at i=2450000\t--> <-- --> <-- write to file at i=2460000\t--> <-- --> <-- write to file at i=2470000\t--> <-- --> <-- write to file at i=2480000\t--> <-- --> <-- write to file at i=2490000\t--> <-- --> <-- write to file at i=2500000\t--> <-- --> <-- write to file at i=2510000\t--> <-- --> <-- write to file at i=2520000\t--> <-- --> <-- write to file at i=2530000\t--> <-- --> <-- write to file at i=2540000\t--> <-- --> <-- write to file at i=2550000\t--> <-- --> <-- write to file at i=2560000\t--> <-- --> <-- write to file at i=2570000\t--> <-- --> <-- write to file at i=2580000\t--> <-- --> <-- write to file at i=2590000\t--> <-- --> <-- write to file at i=2600000\t--> <-- --> <-- write to file at i=2610000\t--> <-- --> <-- write to file at i=2620000\t--> <-- --> <-- write to file at i=2630000\t--> <-- --> <-- write to file at i=2640000\t--> <-- --> <-- write to file at i=2650000\t--> <-- --> <-- write to file at i=2660000\t--> <-- --> <-- write to file at i=2670000\t--> <-- --> <-- write to file at i=2680000\t--> <-- --> <-- write to file at i=2690000\t--> <-- --> <-- write to file at i=2700000\t--> <-- --> <-- write to file at i=2710000\t--> <-- --> <-- write to file at i=2720000\t--> <-- --> <-- write to file at i=2730000\t--> <-- --> <-- write to file at i=2740000\t--> <-- --> <-- write to file at i=2750000\t--> <-- --> <-- write to file at i=2760000\t--> <-- --> <-- write to file at i=2770000\t--> <-- --> <-- write to file at i=2780000\t--> <-- --> <-- write to file at i=2790000\t--> <-- --> <-- write to file at i=2800000\t--> <-- --> <-- write to file at i=2810000\t--> <-- --> <-- write to file at i=2820000\t--> <-- --> <-- write to file at i=2830000\t--> <-- --> <-- write to file at i=2840000\t--> <-- --> <-- write to file at i=2850000\t--> <-- --> <-- write to file at i=2860000\t--> <-- --> <-- write to file at i=2870000\t--> <-- --> <-- write to file at i=2880000\t--> <-- --> <-- write to file at i=2890000\t--> <-- --> <-- write to file at i=2900000\t--> <-- --> <-- write to file at i=2910000\t--> <-- --> <-- write to file at i=2920000\t--> <-- --> <-- write to file at i=2930000\t--> <-- --> <-- write to file at i=2940000\t--> <-- --> <-- write to file at i=2950000\t--> <-- --> <-- write to file at i=2960000\t--> <-- --> <-- write to file at i=2970000\t--> <-- --> <-- write to file at i=2980000\t--> <-- --> <-- write to file at i=2990000\t--> <-- --> <-- write to file at i=3000000\t--> <-- --> <-- write to file at i=3010000\t--> <-- --> <-- write to file at i=3020000\t--> <-- --> <-- write to file at i=3030000\t--> <-- --> <-- write to file at i=3040000\t--> <-- --> <-- write to file at i=3050000\t--> <-- --> <-- write to file at i=3060000\t--> <-- --> <-- write to file at i=3070000\t--> <-- --> <-- write to file at i=3080000\t--> <-- --> <-- write to file at i=3090000\t--> <-- --> <-- write to file at i=3100000\t--> <-- --> <-- write to file at i=3110000\t--> <-- --> <-- write to file at i=3120000\t--> <-- --> <-- write to file at i=3130000\t--> <-- --> <-- write to file at i=3140000\t--> <-- --> <-- write to file at i=3150000\t--> <-- --> <-- write to file at i=3160000\t--> <-- --> <-- write to file at i=3170000\t--> <-- --> <-- write to file at i=3180000\t--> <-- --> <-- write to file at i=3190000\t--> <-- --> <-- write to file at i=3200000\t--> <-- --> <-- write to file at i=3210000\t--> <-- --> <-- write to file at i=3220000\t--> <-- --> <-- write to file at i=3230000\t--> <-- --> <-- write to file at i=3240000\t--> <-- --> <-- write to file at i=3250000\t--> <-- --> <-- write to file at i=3260000\t--> <-- --> <-- write to file at i=3270000\t--> <-- --> <-- write to file at i=3280000\t--> <-- --> <-- write to file at i=3290000\t--> <-- --> <-- write to file at i=3300000\t--> <-- --> <-- write to file at i=3310000\t--> <-- --> <-- write to file at i=3320000\t--> <-- --> <-- write to file at i=3330000\t--> <-- --> <-- write to file at i=3340000\t--> <-- --> <-- write to file at i=3350000\t--> <-- --> <-- write to file at i=3360000\t--> <-- --> <-- write to file at i=3370000\t--> <-- --> <-- write to file at i=3380000\t--> <-- --> <-- write to file at i=3390000\t--> <-- --> <-- write to file at i=3400000\t--> <-- --> <-- write to file at i=3410000\t--> <-- --> <-- write to file at i=3420000\t--> <-- --> <-- write to file at i=3430000\t--> <-- --> <-- write to file at i=3440000\t--> <-- --> <-- write to file at i=3450000\t--> <-- --> <-- write to file at i=3460000\t--> <-- --> <-- write to file at i=3470000\t--> <-- --> <-- write to file at i=3480000\t--> <-- --> <-- write to file at i=3490000\t--> <-- --> <-- write to file at i=3500000\t--> <-- --> <-- write to file at i=3510000\t--> <-- --> <-- write to file at i=3520000\t--> <-- --> <-- write to file at i=3530000\t--> <-- --> <-- write to file at i=3540000\t--> <-- --> <-- write to file at i=3550000\t--> <-- --> <-- write to file at i=3560000\t--> <-- --> <-- write to file at i=3570000\t--> <-- --> <-- write to file at i=3580000\t--> <-- --> <-- write to file at i=3590000\t--> <-- --> <-- write to file at i=3600000\t--> <-- --> <-- write to file at i=3610000\t--> <-- --> <-- write to file at i=3620000\t--> <-- --> <-- write to file at i=3630000\t--> <-- --> <-- write to file at i=3640000\t--> <-- --> <-- write to file at i=3650000\t--> <-- --> <-- write to file at i=3660000\t--> <-- --> <-- write to file at i=3670000\t--> <-- --> <-- write to file at i=3680000\t--> <-- --> <-- write to file at i=3690000\t--> <-- --> <-- write to file at i=3700000\t--> <-- --> <-- write to file at i=3710000\t--> <-- --> <-- write to file at i=3720000\t--> <-- --> <-- write to file at i=3730000\t--> <-- --> <-- write to file at i=3740000\t--> <-- --> <-- write to file at i=3750000\t--> <-- --> <-- write to file at i=3760000\t--> <-- --> <-- write to file at i=3770000\t--> <-- --> <-- write to file at i=3780000\t--> <-- --> <-- write to file at i=3790000\t--> <-- --> <-- write to file at i=3800000\t--> <-- --> <-- write to file at i=3810000\t--> <-- --> <-- write to file at i=3820000\t--> <-- --> <-- write to file at i=3830000\t--> <-- --> <-- write to file at i=3840000\t--> <-- --> <-- write to file at i=3850000\t--> "
     ]
    },
    {
     "name": "stdout",
     "output_type": "stream",
     "text": [
      "<-- --> <-- write to file at i=3860000\t--> <-- --> <-- write to file at i=3870000\t--> <-- --> <-- write to file at i=3880000\t--> <-- --> <-- write to file at i=3890000\t--> <-- --> <-- write to file at i=3900000\t--> <-- --> <-- write to file at i=3910000\t--> <-- --> <-- write to file at i=3920000\t--> <-- --> <-- write to file at i=3930000\t--> <-- --> <-- write to file at i=3940000\t--> <-- --> <-- write to file at i=3950000\t--> <-- --> <-- write to file at i=3960000\t--> <-- --> <-- write to file at i=3970000\t--> <-- --> <-- write to file at i=3980000\t--> <-- --> <-- write to file at i=3990000\t--> <-- --> <-- write to file at i=4000000\t--> <-- --> <-- write to file at i=4010000\t--> <-- --> <-- write to file at i=4020000\t--> <-- --> <-- write to file at i=4026362\t--> <-- --> <-- "
     ]
    }
   ],
   "source": [
    "i=0\n",
    "import string\n",
    "punc = set(string.punctuation)\n",
    "def write_to_file(train_data,filename):\n",
    "    print(\"-->\",end=\" \")\n",
    "    train_file= open(filename,\"a\",encoding=\"utf-8\")\n",
    "    for i in range(len(train_data)):\n",
    "        row = train_data[i]     \n",
    "        text = row[3] \n",
    "        rev_w = text.lower().split()\n",
    "        words = []\n",
    "        for w in rev_w:\n",
    "            prev = 0\n",
    "            for ch in range(len(w)):\n",
    "                if w[ch] in punc:\n",
    "                    if prev < ch:\n",
    "                        words += [w[prev:ch]]\n",
    "                        words += [w[ch]]\n",
    "                        prev = ch + 1\n",
    "            if prev < len(w):\n",
    "                words += [w[prev:]]\n",
    "        line=row[0].strip()+'\\t'+row[1].strip()+'\\t'+str(row[2])+'\\t'+\" \".join(words)\n",
    "        train_file.write(line+\"\\n\")\n",
    "    \n",
    "    train_file.close()\n",
    "    print(\"<--\",end=\" \")\n",
    "    \n",
    "while i < int(l*0.85):\n",
    "    train_data = []\n",
    "    \n",
    "    valid_data = []\n",
    "    for row in q:\n",
    "        train_data += [row]\n",
    "        i += 1\n",
    "        if i % 10000 == 0 or i == int(l*0.85):\n",
    "            print(\"write to file at i=\"+str(i),end=\"\\t\")\n",
    "            break\n",
    "    random.shuffle(train_data)\n",
    "    length = len(train_data)\n",
    "    valid_data = train_data[:int(length*0.12)]\n",
    "    train_data = train_data[int(length*0.12):]\n",
    "    write_to_file(train_data,\"train_data.txt\")\n",
    "    write_to_file(valid_data,\"valid_data.txt\")"
   ]
  },
  {
   "cell_type": "code",
   "execution_count": null,
   "metadata": {},
   "outputs": [],
   "source": []
  },
  {
   "cell_type": "code",
   "execution_count": 11,
   "metadata": {},
   "outputs": [
    {
     "name": "stdout",
     "output_type": "stream",
     "text": [
      "--> <-- "
     ]
    }
   ],
   "source": [
    "test_data = []\n",
    "for row in q:\n",
    "    test_data += [row]\n",
    "random.shuffle(test_data)\n",
    "write_to_file(test_data,\"test_data.txt\")"
   ]
  },
  {
   "cell_type": "code",
   "execution_count": null,
   "metadata": {},
   "outputs": [],
   "source": []
  },
  {
   "cell_type": "code",
   "execution_count": null,
   "metadata": {},
   "outputs": [],
   "source": []
  }
 ],
 "metadata": {
  "kernelspec": {
   "display_name": "Python 3",
   "language": "python",
   "name": "python3"
  },
  "language_info": {
   "codemirror_mode": {
    "name": "ipython",
    "version": 3
   },
   "file_extension": ".py",
   "mimetype": "text/x-python",
   "name": "python",
   "nbconvert_exporter": "python",
   "pygments_lexer": "ipython3",
   "version": "3.5.2"
  }
 },
 "nbformat": 4,
 "nbformat_minor": 2
}
