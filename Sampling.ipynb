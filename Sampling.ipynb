{
 "cells": [
  {
   "cell_type": "code",
   "execution_count": 1,
   "metadata": {},
   "outputs": [],
   "source": [
    "import pickle\n",
    "import numpy"
   ]
  },
  {
   "cell_type": "code",
   "execution_count": 2,
   "metadata": {},
   "outputs": [],
   "source": [
    "with open(\"user_item_rev_rating.pkl\",\"rb\") as f:\n",
    "    user_review_dict,item_review_dict = pickle.load(f)"
   ]
  },
  {
   "cell_type": "code",
   "execution_count": 3,
   "metadata": {},
   "outputs": [
    {
     "data": {
      "text/plain": [
       "939977"
      ]
     },
     "execution_count": 3,
     "metadata": {},
     "output_type": "execute_result"
    }
   ],
   "source": [
    "len(list(user_review_dict.keys()))"
   ]
  },
  {
   "cell_type": "code",
   "execution_count": 4,
   "metadata": {},
   "outputs": [],
   "source": [
    "threshold = 15"
   ]
  },
  {
   "cell_type": "code",
   "execution_count": 5,
   "metadata": {},
   "outputs": [],
   "source": [
    "review_id_set = set()\n",
    "for user in user_review_dict:\n",
    "    for review_id,rating in user_review_dict[user]:\n",
    "        review_id_set.add((review_id,rating))\n",
    "review_id_set = list(review_id_set)"
   ]
  },
  {
   "cell_type": "code",
   "execution_count": 6,
   "metadata": {},
   "outputs": [
    {
     "data": {
      "text/plain": [
       "3543200"
      ]
     },
     "execution_count": 6,
     "metadata": {},
     "output_type": "execute_result"
    }
   ],
   "source": [
    "\n",
    "numpy.random.shuffle(review_id_set)\n",
    "len(review_id_set)"
   ]
  },
  {
   "cell_type": "code",
   "execution_count": 7,
   "metadata": {},
   "outputs": [],
   "source": [
    "user_rev_sample_dict = {}"
   ]
  },
  {
   "cell_type": "code",
   "execution_count": 9,
   "metadata": {},
   "outputs": [
    {
     "name": "stdout",
     "output_type": "stream",
     "text": [
      "0 10000 20000 30000 40000 50000 60000 70000 80000 90000 100000 110000 120000 130000 140000 150000 160000 170000 180000 190000 200000 210000 220000 230000 240000 250000 260000 270000 280000 290000 300000 310000 320000 330000 340000 350000 360000 370000 380000 390000 400000 410000 420000 430000 440000 450000 460000 470000 480000 490000 500000 510000 520000 530000 540000 550000 560000 570000 580000 590000 600000 610000 620000 630000 640000 650000 660000 670000 680000 690000 700000 710000 720000 730000 740000 750000 760000 770000 780000 790000 800000 810000 820000 830000 840000 850000 860000 870000 880000 890000 900000 910000 920000 930000 "
     ]
    }
   ],
   "source": [
    "import random\n",
    "i = 0\n",
    "for user in user_review_dict:\n",
    "    if i % 10000 == 0:\n",
    "        print (i,end=\" \")\n",
    "    if len(user_review_dict[user]) > threshold + 1:\n",
    "        user_rev_sample_dict[user] = random.sample(user_review_dict[user],threshold+1)\n",
    "    else:\n",
    "        n = threshold + 1 - len(user_review_dict[user]) \n",
    "        user_rev_sample_dict[user] = random.sample(review_id_set,n) + user_review_dict[user]\n",
    "    i += 1"
   ]
  },
  {
   "cell_type": "code",
   "execution_count": 10,
   "metadata": {},
   "outputs": [
    {
     "name": "stdout",
     "output_type": "stream",
     "text": [
      "0 10000 20000 30000 40000 50000 60000 70000 80000 90000 100000 110000 120000 130000 140000 150000 "
     ]
    }
   ],
   "source": [
    "i = 0\n",
    "item_rev_sample_dict = {}\n",
    "for item in item_review_dict:\n",
    "    if i % 10000 == 0:\n",
    "        print (i,end=\" \")\n",
    "    if len(item_review_dict[item]) > threshold + 1:\n",
    "        item_rev_sample_dict[item] = random.sample(item_review_dict[item],threshold+1)\n",
    "    else:\n",
    "        n = threshold + 1 - len(item_review_dict[item]) \n",
    "        item_rev_sample_dict[item] = random.sample(review_id_set,n) + item_review_dict[item]\n",
    "    i += 1"
   ]
  },
  {
   "cell_type": "code",
   "execution_count": 12,
   "metadata": {},
   "outputs": [],
   "source": [
    "for user in user_rev_sample_dict:\n",
    "    user_rev_sample_dict[user].sort(key=lambda x:x[1])"
   ]
  },
  {
   "cell_type": "code",
   "execution_count": 13,
   "metadata": {},
   "outputs": [],
   "source": [
    "for item in item_rev_sample_dict:\n",
    "    item_rev_sample_dict[item].sort(key=lambda x:x[1])"
   ]
  },
  {
   "cell_type": "code",
   "execution_count": 15,
   "metadata": {},
   "outputs": [
    {
     "data": {
      "text/plain": [
       "[('UvFmIHdFqWZJQjkfhp_vig', 1),\n",
       " ('knlEiDk2r8rlO3QEvQa8WA', 1),\n",
       " ('rUdkAmRVDUEz7DyMRpWgbg', 3),\n",
       " ('ctzT5VCxyqCb6235CRs89A', 3),\n",
       " ('VRWu5IwKYcyCd9NjuDg68A', 4),\n",
       " ('VyPPOt0UicDCueunyVHANA', 4),\n",
       " ('9pPU4Ue2CX6c3fTGIQjy4A', 4),\n",
       " ('Qt16QFdaVwWNdrD_mgpXjw', 4),\n",
       " ('-J3ysy10W82xz7zKz_EdBg', 4),\n",
       " ('3whlE9E6UmDonqLqMpsfQA', 4),\n",
       " ('cQRxb4yYKz3Ugb656q2ZhQ', 4),\n",
       " ('_p0EU18GAyhgcGS7YVNtcg', 4),\n",
       " ('PmrmhpeC7f9v_X_d5oCbYQ', 4),\n",
       " ('utVA9CLNh_J7WibJqWSPQw', 5),\n",
       " ('XPa7wCrB-EDreU8xC_CH5A', 5),\n",
       " ('JIbq-ZGJT_LCjqEO8_Katg', 5)]"
      ]
     },
     "execution_count": 15,
     "metadata": {},
     "output_type": "execute_result"
    }
   ],
   "source": []
  },
  {
   "cell_type": "code",
   "execution_count": null,
   "metadata": {},
   "outputs": [],
   "source": []
  }
 ],
 "metadata": {
  "kernelspec": {
   "display_name": "Python 3",
   "language": "python",
   "name": "python3"
  },
  "language_info": {
   "codemirror_mode": {
    "name": "ipython",
    "version": 3
   },
   "file_extension": ".py",
   "mimetype": "text/x-python",
   "name": "python",
   "nbconvert_exporter": "python",
   "pygments_lexer": "ipython3",
   "version": "3.5.2"
  }
 },
 "nbformat": 4,
 "nbformat_minor": 2
}
